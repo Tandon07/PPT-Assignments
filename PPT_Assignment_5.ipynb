{
  "nbformat": 4,
  "nbformat_minor": 0,
  "metadata": {
    "colab": {
      "provenance": [],
      "toc_visible": true
    },
    "kernelspec": {
      "name": "python3",
      "display_name": "Python 3"
    },
    "language_info": {
      "name": "python"
    }
  },
  "cells": [
    {
      "cell_type": "code",
      "execution_count": null,
      "metadata": {
        "id": "dZ1WsglagRlB"
      },
      "outputs": [],
      "source": []
    },
    {
      "cell_type": "code",
      "source": [
        "# Q1"
      ],
      "metadata": {
        "id": "FtuJuBl2iB0i"
      },
      "execution_count": null,
      "outputs": []
    },
    {
      "cell_type": "code",
      "source": [
        "def arrange_coins(n):\n",
        "    left, right = 0, n\n",
        "\n",
        "    while left <= right:\n",
        "        k = (left + right) // 2\n",
        "        coins_needed = (k * (k + 1)) // 2\n",
        "\n",
        "        if coins_needed == n:\n",
        "            return k\n",
        "\n",
        "        if coins_needed < n:\n",
        "            left = k + 1\n",
        "        else:\n",
        "            right = k - 1\n",
        "\n",
        "    return right\n",
        "\n",
        "n = 10\n",
        "result = arrange_coins(n)\n",
        "print(result)"
      ],
      "metadata": {
        "colab": {
          "base_uri": "https://localhost:8080/"
        },
        "id": "4Qi7FU7PiDAS",
        "outputId": "96b041b6-bd3a-410b-c469-067f16b49124"
      },
      "execution_count": null,
      "outputs": [
        {
          "output_type": "stream",
          "name": "stdout",
          "text": [
            "4\n"
          ]
        }
      ]
    },
    {
      "cell_type": "code",
      "source": [
        "# Q3"
      ],
      "metadata": {
        "id": "YDwVbrzJiMXw"
      },
      "execution_count": null,
      "outputs": []
    },
    {
      "cell_type": "code",
      "source": [
        "nums = [-4, -1, 0, 3, 10]\n",
        "squared_list = list(map(lambda x: x * x, nums))\n",
        "squared_list.sort()\n",
        "squared_list"
      ],
      "metadata": {
        "colab": {
          "base_uri": "https://localhost:8080/"
        },
        "id": "FTKmtIi5ilzp",
        "outputId": "2cf0d8d4-906c-40c7-feaa-3f130f8f2d76"
      },
      "execution_count": null,
      "outputs": [
        {
          "output_type": "execute_result",
          "data": {
            "text/plain": [
              "[0, 1, 9, 16, 100]"
            ]
          },
          "metadata": {},
          "execution_count": 5
        }
      ]
    },
    {
      "cell_type": "code",
      "source": [
        "# Q4"
      ],
      "metadata": {
        "id": "Mvog9SRujlAd"
      },
      "execution_count": null,
      "outputs": []
    },
    {
      "cell_type": "code",
      "source": [
        "def return_twice(l):\n",
        "  element_count = {}\n",
        "  count=[]\n",
        "  for element in l:\n",
        "      if element in element_count:\n",
        "          element_count[element] += 1\n",
        "      else:\n",
        "          element_count[element] = 1\n",
        "\n",
        "  for i in element_count:\n",
        "    if element_count[i]==2:\n",
        "        count.append(i)\n",
        "  return count\n",
        "\n",
        "print(return_twice([4,3,2,7,8,2,3,1]))"
      ],
      "metadata": {
        "colab": {
          "base_uri": "https://localhost:8080/"
        },
        "id": "UQR-hnOujnov",
        "outputId": "64c69308-fbf0-4ff9-f744-163b2983c861"
      },
      "execution_count": null,
      "outputs": [
        {
          "output_type": "stream",
          "name": "stdout",
          "text": [
            "[3, 2]\n"
          ]
        }
      ]
    },
    {
      "cell_type": "code",
      "source": [
        "d={\"a\":1,\"b\":2,\"c\":3}\n",
        "for i in d:\n",
        "  print(d[i])"
      ],
      "metadata": {
        "colab": {
          "base_uri": "https://localhost:8080/"
        },
        "id": "Ip3APCjHk3q0",
        "outputId": "c5b25704-a5e9-4912-c307-de10f2dffbd1"
      },
      "execution_count": null,
      "outputs": [
        {
          "output_type": "stream",
          "name": "stdout",
          "text": [
            "1\n",
            "2\n",
            "3\n"
          ]
        }
      ]
    },
    {
      "cell_type": "code",
      "source": [
        "# Q5"
      ],
      "metadata": {
        "id": "RR6f9Hmjk_0m"
      },
      "execution_count": null,
      "outputs": []
    },
    {
      "cell_type": "code",
      "source": [
        "def find_distance_value(arr1, arr2, d):\n",
        "    distance = 0\n",
        "    for num1 in arr1:\n",
        "        for num2 in arr2:\n",
        "            if abs(num1 - num2) <= d:\n",
        "                break\n",
        "        else:\n",
        "            distance += 1\n",
        "    return distance\n"
      ],
      "metadata": {
        "id": "welABBMzmYHs"
      },
      "execution_count": null,
      "outputs": []
    },
    {
      "cell_type": "code",
      "source": [
        "# Q6"
      ],
      "metadata": {
        "id": "61E1NdITfqWN"
      },
      "execution_count": null,
      "outputs": []
    },
    {
      "cell_type": "code",
      "source": [
        "def findDuplicates(nums):\n",
        "    result = []\n",
        "\n",
        "    for num in nums:\n",
        "        i = abs(num) - 1\n",
        "        if nums[i] < 0:\n",
        "            result.append(abs(num))\n",
        "        else:\n",
        "            nums[i] *= -1\n",
        "\n",
        "    return result\n"
      ],
      "metadata": {
        "id": "oOoWonDCfrko"
      },
      "execution_count": null,
      "outputs": []
    },
    {
      "cell_type": "code",
      "source": [
        "# Q8"
      ],
      "metadata": {
        "id": "_YCq3bp36lm-"
      },
      "execution_count": null,
      "outputs": []
    },
    {
      "cell_type": "code",
      "source": [
        "from collections import defaultdict\n",
        "\n",
        "def findOriginalArray(changed):\n",
        "    original_map = defaultdict(int)\n",
        "    for num in changed:\n",
        "        if original_map[num / 2] > 0:\n",
        "            original_map[num / 2] -= 1\n",
        "        else:\n",
        "            return []\n",
        "        original_map[num] += 1\n",
        "\n",
        "    original = []\n",
        "    for num, freq in original_map.items():\n",
        "        original.extend([num] * freq)\n",
        "\n",
        "    return original\n"
      ],
      "metadata": {
        "id": "bxJYd1Dg6uvt"
      },
      "execution_count": null,
      "outputs": []
    },
    {
      "cell_type": "code",
      "source": [],
      "metadata": {
        "id": "qhlKRu-J6vdv"
      },
      "execution_count": null,
      "outputs": []
    }
  ]
}