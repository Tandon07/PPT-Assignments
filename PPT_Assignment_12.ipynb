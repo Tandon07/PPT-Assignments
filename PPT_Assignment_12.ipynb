{
  "nbformat": 4,
  "nbformat_minor": 0,
  "metadata": {
    "colab": {
      "provenance": []
    },
    "kernelspec": {
      "name": "python3",
      "display_name": "Python 3"
    },
    "language_info": {
      "name": "python"
    }
  },
  "cells": [
    {
      "cell_type": "markdown",
      "source": [
        "Q1 Given a singly linked list, delete **middle** of the linked list. For example, if given linked list is 1->2->**3**->4->5 then linked list should be modified to 1->2->4->5.If there are **even** nodes, then there would be **two middle** nodes, we need to delete the second middle element. For example, if given linked list is 1->2->3->4->5->6 then it should be modified to 1->2->3->5->6.If the input linked list is NULL or has 1 node, then it should return NULL\n",
        "\n",
        "**Example 1:**Input:\n",
        "LinkedList: 1->2->3->4->5\n",
        "Output:1 2 4 5\n",
        "Input:\n",
        "LinkedList: 2->4->6->7->5->1\n",
        "Output:2 4 6 5 1"
      ],
      "metadata": {
        "id": "VXW0FdXwpv_5"
      }
    },
    {
      "cell_type": "code",
      "execution_count": null,
      "metadata": {
        "colab": {
          "base_uri": "https://localhost:8080/"
        },
        "id": "t0-elF1Kpdol",
        "outputId": "84d514b6-a273-4906-91c1-8eb194b995c0"
      },
      "outputs": [
        {
          "output_type": "stream",
          "name": "stdout",
          "text": [
            "1 2 4 5 \n",
            "2 4 6 5 1 "
          ]
        }
      ],
      "source": [
        "class Node:\n",
        "    def __init__(self, data):\n",
        "        self.data = data\n",
        "        self.next = None\n",
        "\n",
        "\n",
        "def delete_middle_node(head):\n",
        "    if head is None or head.next is None:\n",
        "        return None\n",
        "\n",
        "    slow_ptr = head\n",
        "    fast_ptr = head\n",
        "    prev_ptr = None\n",
        "\n",
        "    while fast_ptr is not None and fast_ptr.next is not None:\n",
        "        fast_ptr = fast_ptr.next.next\n",
        "        prev_ptr = slow_ptr\n",
        "        slow_ptr = slow_ptr.next\n",
        "\n",
        "    prev_ptr.next = slow_ptr.next\n",
        "    slow_ptr = None\n",
        "\n",
        "    return head\n",
        "\n",
        "\n",
        "#Test case 1\n",
        "\n",
        "head = Node(1)\n",
        "head.next = Node(2)\n",
        "head.next.next = Node(3)\n",
        "head.next.next.next = Node(4)\n",
        "head.next.next.next.next = Node(5)\n",
        "\n",
        "new_head = delete_middle_node(head)\n",
        "\n",
        "\n",
        "while new_head is not None:\n",
        "    print(new_head.data, end=\" \")\n",
        "    new_head = new_head.next\n",
        "\n",
        "print()\n",
        "# Test Case 2\n",
        "\n",
        "head = Node(2)\n",
        "head.next = Node(4)\n",
        "head.next.next = Node(6)\n",
        "head.next.next.next = Node(7)\n",
        "head.next.next.next.next = Node(5)\n",
        "head.next.next.next.next.next = Node(1)\n",
        "\n",
        "new_head = delete_middle_node(head)\n",
        "\n",
        "\n",
        "while new_head is not None:\n",
        "    print(new_head.data, end=\" \")\n",
        "    new_head = new_head.next\n",
        "\n"
      ]
    },
    {
      "cell_type": "markdown",
      "source": [
        "<aside>\n",
        "💡 **Question 2**\n",
        "\n",
        "Given a linked list of **N** nodes. The task is to check if the linked list has a loop. Linked list can contain self loop.\n",
        "\n",
        "**Example 1:**\n",
        "\n",
        "```\n",
        "Input:\n",
        "N = 3\n",
        "value[] = {1,3,4}\n",
        "x(position at which tail is connected) = 2\n",
        "Output:True\n",
        "Explanation:In above test case N = 3.\n",
        "The linked list with nodes N = 3 is\n",
        "given. Then value of x=2 is given which\n",
        "means last node is connected with xth\n",
        "node of linked list. Therefore, there\n",
        "exists a loop.\n",
        "```\n",
        "\n",
        "**Example 2:**\n",
        "Input:\n",
        "N = 4\n",
        "value[] = {1,8,3,4}\n",
        "x = 0\n",
        "Output:False\n",
        "Explanation:For N = 4 ,x = 0 means\n",
        "then lastNode->next = NULL, then\n",
        "the Linked list does not contains\n",
        "any loop.\n",
        "</aside>"
      ],
      "metadata": {
        "id": "jzIMJRMQstpG"
      }
    },
    {
      "cell_type": "code",
      "source": [
        "class Node:\n",
        "    def __init__(self, data):\n",
        "        self.data = data\n",
        "        self.next = None\n",
        "\n",
        "\n",
        "def has_loop(head):\n",
        "    if head is None:\n",
        "        return False\n",
        "\n",
        "    slow_ptr = head\n",
        "    fast_ptr = head.next\n",
        "\n",
        "    while fast_ptr is not None and fast_ptr.next is not None:\n",
        "        if slow_ptr == fast_ptr:\n",
        "            return True\n",
        "        slow_ptr = slow_ptr.next\n",
        "        fast_ptr = fast_ptr.next.next\n",
        "\n",
        "    return False\n",
        "\n",
        "\n",
        "\n",
        "# Test Case 1\n",
        "\n",
        "head = Node(1)\n",
        "head.next = Node(3)\n",
        "head.next.next = Node(4)\n",
        "head.next.next.next = head.next\n",
        "\n",
        "has_loop_result = has_loop(head)\n",
        "print(has_loop_result)\n",
        "\n",
        "\n",
        "\n",
        "# Test case 2\n",
        "head = Node(1)\n",
        "head.next = Node(8)\n",
        "head.next.next = Node(3)\n",
        "head.next.next.next = Node(4)\n",
        "\n",
        "has_loop_result = has_loop(head)\n",
        "print(has_loop_result)\n"
      ],
      "metadata": {
        "colab": {
          "base_uri": "https://localhost:8080/"
        },
        "id": "OtmQo6BkrwSv",
        "outputId": "a33dbab8-db47-4e1b-8316-82a5255fa7fc"
      },
      "execution_count": null,
      "outputs": [
        {
          "output_type": "stream",
          "name": "stdout",
          "text": [
            "True\n",
            "False\n"
          ]
        }
      ]
    },
    {
      "cell_type": "code",
      "source": [
        "# Q3"
      ],
      "metadata": {
        "id": "bjAyuHeGtrd2"
      },
      "execution_count": 1,
      "outputs": []
    },
    {
      "cell_type": "code",
      "source": [
        "class Node:\n",
        "    def __init__(self, value):\n",
        "        self.value = value\n",
        "        self.next = None\n",
        "\n",
        "def find_nth_from_end(head, N):\n",
        "    if head is None:\n",
        "        return -1\n",
        "\n",
        "    first = head\n",
        "    second = head\n",
        "\n",
        "    for _ in range(N):\n",
        "      if first is None:\n",
        "        return -1\n",
        "      first = first.next\n",
        "\n",
        "    while first is not None and first.next is not None:\n",
        "\n",
        "      first = first.next\n",
        "      second = second.next\n",
        "\n",
        "    return second.next.value\n",
        "\n",
        "# Create the linked list\n",
        "head = Node(1)\n",
        "# head.next = Node(2)\n",
        "# head.next.next = Node(3)\n",
        "# head.next.next.next = Node(4)\n",
        "# head.next.next.next.next = Node(5)\n",
        "# head.next.next.next.next.next = Node(6)\n",
        "# head.next.next.next.next.next.next = Node(7)\n",
        "# head.next.next.next.next.next.next.next = Node(8)\n",
        "# head.next.next.next.next.next.next.next.next = Node(9)\n",
        "\n",
        "print(find_nth_from_end(head, 2))\n"
      ],
      "metadata": {
        "colab": {
          "base_uri": "https://localhost:8080/"
        },
        "id": "7asT5fEgTY2d",
        "outputId": "4c7134c7-d36c-4c1f-9076-3a2097ac7ff6"
      },
      "execution_count": 14,
      "outputs": [
        {
          "output_type": "stream",
          "name": "stdout",
          "text": [
            "-1\n"
          ]
        }
      ]
    },
    {
      "cell_type": "code",
      "source": [
        "# Q4"
      ],
      "metadata": {
        "id": "Rs7r04JpTq7D"
      },
      "execution_count": 15,
      "outputs": []
    },
    {
      "cell_type": "code",
      "source": [
        "class Node:\n",
        "    def __init__(self, value):\n",
        "        self.value = value\n",
        "        self.next = None\n",
        "\n",
        "\n",
        "# Firstly reverse\n",
        "def palindrome(head):\n",
        "\n",
        "  fast=head\n",
        "  slow=head\n",
        "# find middle\n",
        "  while fast is not None and fast.next is not None:\n",
        "\n",
        "    slow=slow.next\n",
        "    fast=fast.next.next\n",
        "\n",
        "# reverse\n",
        "  curr=slow\n",
        "  prev=None\n",
        "\n",
        "  while(curr!=None):\n",
        "    temp=curr.next\n",
        "    curr.next=prev\n",
        "    prev=curr\n",
        "    curr=temp\n",
        "\n",
        "# traverse\n",
        "\n",
        "  while prev.next is not None:\n",
        "    if head.value==prev.value:\n",
        "      head=head.next\n",
        "      prev=prev.next\n",
        "\n",
        "    else:\n",
        "      return False\n",
        "  return True\n",
        "head = Node('A')\n",
        "head.next = Node('B')\n",
        "head.next.next = Node('C')\n",
        "head.next.next.next = Node('A')\n",
        "head.next.next.next.next = Node('A')\n",
        "# head.next.next.next.next.next = Node(6)\n",
        "\n",
        "print(palindrome(head))\n"
      ],
      "metadata": {
        "colab": {
          "base_uri": "https://localhost:8080/"
        },
        "id": "SmfHSqRYfDhb",
        "outputId": "041a35d0-0474-4d28-8dd5-9b014839d0e4"
      },
      "execution_count": 37,
      "outputs": [
        {
          "output_type": "stream",
          "name": "stdout",
          "text": [
            "False\n"
          ]
        }
      ]
    },
    {
      "cell_type": "code",
      "source": [
        "# q5"
      ],
      "metadata": {
        "id": "DXDx12ZWkSPn"
      },
      "execution_count": 38,
      "outputs": []
    },
    {
      "cell_type": "code",
      "source": [
        "# q6"
      ],
      "metadata": {
        "id": "bGn1NdyZvpDD"
      },
      "execution_count": null,
      "outputs": []
    },
    {
      "cell_type": "code",
      "source": [
        "class Node:\n",
        "    def __init__(self, value):\n",
        "        self.value = value\n",
        "        self.next = None\n",
        "\n",
        "def retain_delete(head, M, N):\n",
        "    if not head or M <= 0 or N <= 0:\n",
        "        return head.value\n",
        "\n",
        "    current = head\n",
        "    prev = None\n",
        "\n",
        "    while current:\n",
        "\n",
        "        for _ in range(M):\n",
        "            if current:\n",
        "                prev = current\n",
        "                current = current.next\n",
        "            else:\n",
        "                break\n",
        "\n",
        "\n",
        "        for _ in range(N):\n",
        "            if current:\n",
        "                current = current.next\n",
        "            else:\n",
        "                break\n",
        "\n",
        "        prev.next = current\n",
        "\n",
        "    return head.value\n",
        "\n",
        "\n",
        "# Example 1\n",
        "head1 = Node(1)\n",
        "head1.next = Node(2)\n",
        "head1.next.next = Node(3)\n",
        "head1.next.next.next = Node(4)\n",
        "head1.next.next.next.next = Node(5)\n",
        "head1.next.next.next.next.next = Node(6)\n",
        "head1.next.next.next.next.next.next = Node(7)\n",
        "head1.next.next.next.next.next.next.next = Node(8)\n",
        "M1 = 2\n",
        "N1 = 2\n",
        "\n",
        "print(retain_delete(head1, M1, N1))\n",
        "\n",
        "\n",
        "# Example 2\n",
        "head2 = Node(1)\n",
        "head2.next = Node(2)\n",
        "head2.next.next = Node(3)\n",
        "head2.next.next.next = Node(4)\n",
        "head2.next.next.next.next = Node(5)\n",
        "head2.next.next.next.next.next = Node(6)\n",
        "head2.next.next.next.next.next.next = Node(7)\n",
        "head2.next.next.next.next.next.next.next = Node(8)\n",
        "head2.next.next.next.next.next.next.next.next = Node(9)\n",
        "head2.next.next.next.next.next.next.next.next.next = Node(10)\n",
        "M2 = 3\n",
        "N2 = 2\n",
        "print(retain_delete(head2, M2, N2))\n",
        "\n"
      ],
      "metadata": {
        "colab": {
          "base_uri": "https://localhost:8080/"
        },
        "id": "F5qM63ruzz2I",
        "outputId": "84d83a23-1604-4cb8-c230-848856227752"
      },
      "execution_count": 41,
      "outputs": [
        {
          "output_type": "stream",
          "name": "stdout",
          "text": [
            "1\n",
            "1\n"
          ]
        }
      ]
    },
    {
      "cell_type": "code",
      "source": [
        "# Q8"
      ],
      "metadata": {
        "id": "hCN7wipY2M-N"
      },
      "execution_count": 42,
      "outputs": []
    },
    {
      "cell_type": "code",
      "source": [
        "class Node:\n",
        "    def __init__(self, value):\n",
        "        self.value = value\n",
        "        self.next = None\n",
        "\n",
        "def is_circular(head):\n",
        "    if head is None:\n",
        "        return False\n",
        "\n",
        "    slow = head\n",
        "    fast = head.next\n",
        "\n",
        "    while fast is not None and fast.next is not None:\n",
        "        if fast == slow:\n",
        "            return True\n",
        "        slow = slow.next\n",
        "        fast = fast.next.next\n",
        "\n",
        "    return False\n",
        "\n",
        "\n",
        "head = Node(1)\n",
        "head.next = Node(2)\n",
        "head.next.next = Node(3)\n",
        "head.next.next.next = Node(4)\n",
        "head.next.next.next.next = Node(5)\n",
        "\n",
        "# making circular\n",
        "head.next.next.next.next.next = head\n",
        "\n",
        "\n",
        "result = is_circular(head)\n",
        "print(result)"
      ],
      "metadata": {
        "colab": {
          "base_uri": "https://localhost:8080/"
        },
        "id": "PTezlwMw3pj6",
        "outputId": "c24dd308-4f1c-4015-ea32-daf5ce928aa0"
      },
      "execution_count": 44,
      "outputs": [
        {
          "output_type": "stream",
          "name": "stdout",
          "text": [
            "True\n"
          ]
        }
      ]
    },
    {
      "cell_type": "code",
      "source": [],
      "metadata": {
        "id": "0hco4f3q3qC0"
      },
      "execution_count": null,
      "outputs": []
    }
  ]
}