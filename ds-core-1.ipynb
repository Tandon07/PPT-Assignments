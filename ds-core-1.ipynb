{
 "cells": [
  {
   "cell_type": "code",
   "execution_count": 1,
   "id": "fb673e2d",
   "metadata": {
    "_cell_guid": "b1076dfc-b9ad-4769-8c92-a6c4dae69d19",
    "_uuid": "8f2839f25d086af736a60e9eeb907d3b93b6e0e5",
    "execution": {
     "iopub.execute_input": "2023-07-12T12:43:09.870736Z",
     "iopub.status.busy": "2023-07-12T12:43:09.870337Z",
     "iopub.status.idle": "2023-07-12T12:43:09.886801Z",
     "shell.execute_reply": "2023-07-12T12:43:09.885218Z"
    },
    "papermill": {
     "duration": 0.032569,
     "end_time": "2023-07-12T12:43:09.888934",
     "exception": true,
     "start_time": "2023-07-12T12:43:09.856365",
     "status": "failed"
    },
    "tags": []
   },
   "outputs": [
    {
     "ename": "SyntaxError",
     "evalue": "invalid syntax (982696706.py, line 1)",
     "output_type": "error",
     "traceback": [
      "\u001b[0;36m  Cell \u001b[0;32mIn[1], line 1\u001b[0;36m\u001b[0m\n\u001b[0;31m    Q1 Scenario: A company wants to analyze the sales performance of its products in different\u001b[0m\n\u001b[0m       ^\u001b[0m\n\u001b[0;31mSyntaxError\u001b[0m\u001b[0;31m:\u001b[0m invalid syntax\n"
     ]
    }
   ],
   "source": [
    "Q1 Scenario: A company wants to analyze the sales performance of its products in different\n",
    "regions. They have collected the following data:\n",
    "Region A: [10, 15, 12, 8, 14]\n",
    "Region B: [18, 20, 16, 22, 25]\n",
    "Calculate the mean sales for each region."
   ]
  },
  {
   "cell_type": "code",
   "execution_count": null,
   "id": "835cf5fe",
   "metadata": {
    "papermill": {
     "duration": null,
     "end_time": null,
     "exception": null,
     "start_time": null,
     "status": "pending"
    },
    "tags": []
   },
   "outputs": [],
   "source": []
  },
  {
   "cell_type": "code",
   "execution_count": null,
   "id": "7d08b101",
   "metadata": {
    "papermill": {
     "duration": null,
     "end_time": null,
     "exception": null,
     "start_time": null,
     "status": "pending"
    },
    "tags": []
   },
   "outputs": [],
   "source": []
  },
  {
   "cell_type": "markdown",
   "id": "4d11837f",
   "metadata": {
    "papermill": {
     "duration": null,
     "end_time": null,
     "exception": null,
     "start_time": null,
     "status": "pending"
    },
    "tags": []
   },
   "source": [
    "Q1 Scenario: A company wants to analyze the sales performance of its products in different\n",
    "regions. They have collected the following data:\n",
    "Region A: [10, 15, 12, 8, 14]\n",
    "Region B: [18, 20, 16, 22, 25]\n",
    "Calculate the mean sales for each region."
   ]
  },
  {
   "cell_type": "code",
   "execution_count": null,
   "id": "a0433319",
   "metadata": {
    "execution": {
     "iopub.execute_input": "2023-07-12T07:21:53.449476Z",
     "iopub.status.busy": "2023-07-12T07:21:53.448991Z",
     "iopub.status.idle": "2023-07-12T07:21:53.457842Z",
     "shell.execute_reply": "2023-07-12T07:21:53.456336Z",
     "shell.execute_reply.started": "2023-07-12T07:21:53.449434Z"
    },
    "papermill": {
     "duration": null,
     "end_time": null,
     "exception": null,
     "start_time": null,
     "status": "pending"
    },
    "tags": []
   },
   "outputs": [],
   "source": [
    "import statistics as st\n",
    "A= [10, 15, 12, 8, 14]\n",
    "B= [18, 20, 16, 22, 25]\n",
    "A_mean=st.mean(A)\n",
    "print(A_mean)\n",
    "B_mean=st.mean(B)\n",
    "print(B_mean)"
   ]
  },
  {
   "cell_type": "markdown",
   "id": "273bcfda",
   "metadata": {
    "papermill": {
     "duration": null,
     "end_time": null,
     "exception": null,
     "start_time": null,
     "status": "pending"
    },
    "tags": []
   },
   "source": [
    "2 Scenario: A survey is conducted to measure customer satisfaction on a scale of 1 to 5. The\n",
    "data collected is as follows:\n",
    "[4, 5, 2, 3, 5, 4, 3, 2, 4, 5]\n",
    "Calculate the mode of the survey responses."
   ]
  },
  {
   "cell_type": "code",
   "execution_count": null,
   "id": "67136f80",
   "metadata": {
    "execution": {
     "iopub.execute_input": "2023-07-12T07:26:12.448527Z",
     "iopub.status.busy": "2023-07-12T07:26:12.447756Z",
     "iopub.status.idle": "2023-07-12T07:26:12.456023Z",
     "shell.execute_reply": "2023-07-12T07:26:12.454297Z",
     "shell.execute_reply.started": "2023-07-12T07:26:12.448486Z"
    },
    "papermill": {
     "duration": null,
     "end_time": null,
     "exception": null,
     "start_time": null,
     "status": "pending"
    },
    "tags": []
   },
   "outputs": [],
   "source": [
    "print(st.mode([4, 5, 2, 3, 5, 4, 3, 2, 4, 5]))"
   ]
  },
  {
   "cell_type": "markdown",
   "id": "97d6b652",
   "metadata": {
    "papermill": {
     "duration": null,
     "end_time": null,
     "exception": null,
     "start_time": null,
     "status": "pending"
    },
    "tags": []
   },
   "source": [
    "3. Scenario: A company wants to compare the salaries of two departments. The salary data for\n",
    "Department A and Department B are as follows:\n",
    "Department A: [5000, 6000, 5500, 7000]\n",
    "Department B: [4500, 5500, 5800, 6000, 5200]\n",
    "Calculate the median salary for each department."
   ]
  },
  {
   "cell_type": "code",
   "execution_count": null,
   "id": "a26591c0",
   "metadata": {
    "execution": {
     "iopub.execute_input": "2023-07-12T07:27:35.521807Z",
     "iopub.status.busy": "2023-07-12T07:27:35.521316Z",
     "iopub.status.idle": "2023-07-12T07:27:35.529637Z",
     "shell.execute_reply": "2023-07-12T07:27:35.528144Z",
     "shell.execute_reply.started": "2023-07-12T07:27:35.521770Z"
    },
    "papermill": {
     "duration": null,
     "end_time": null,
     "exception": null,
     "start_time": null,
     "status": "pending"
    },
    "tags": []
   },
   "outputs": [],
   "source": [
    "print(\"median for A\",st.median([5000, 6000, 5500, 7000]))\n",
    "print(\"median for B\",st.median([4500, 5500, 5800, 6000, 5200]))"
   ]
  },
  {
   "cell_type": "markdown",
   "id": "2c753d2a",
   "metadata": {
    "papermill": {
     "duration": null,
     "end_time": null,
     "exception": null,
     "start_time": null,
     "status": "pending"
    },
    "tags": []
   },
   "source": [
    "4. Scenario: A data analyst wants to determine the variability in the daily stock prices of a\n",
    "company. The data collected is as follows:\n",
    "[25.5, 24.8, 26.1, 25.3, 24.9]\n",
    "Calculate the range of the stock prices."
   ]
  },
  {
   "cell_type": "code",
   "execution_count": null,
   "id": "79d3dbc5",
   "metadata": {
    "execution": {
     "iopub.execute_input": "2023-07-12T07:33:57.079816Z",
     "iopub.status.busy": "2023-07-12T07:33:57.079285Z",
     "iopub.status.idle": "2023-07-12T07:33:57.085949Z",
     "shell.execute_reply": "2023-07-12T07:33:57.085183Z",
     "shell.execute_reply.started": "2023-07-12T07:33:57.079771Z"
    },
    "papermill": {
     "duration": null,
     "end_time": null,
     "exception": null,
     "start_time": null,
     "status": "pending"
    },
    "tags": []
   },
   "outputs": [],
   "source": [
    "data=[25.5, 24.8, 26.1, 25.3, 24.9]\n",
    "print(\"range: \",max(data)-min(data))"
   ]
  },
  {
   "cell_type": "markdown",
   "id": "90308781",
   "metadata": {
    "papermill": {
     "duration": null,
     "end_time": null,
     "exception": null,
     "start_time": null,
     "status": "pending"
    },
    "tags": []
   },
   "source": [
    "5. Scenario: A study is conducted to compare the performance of two different teaching\n",
    "methods. The test scores of the students in each group are as follows:\n",
    "Group A: [85, 90, 92, 88, 91]\n",
    "Group B: [82, 88, 90, 86, 87]\n",
    "Perform a t-test to determine if there is a significant difference in the mean scores between the\n",
    "two groups."
   ]
  },
  {
   "cell_type": "code",
   "execution_count": null,
   "id": "0c4310d3",
   "metadata": {
    "execution": {
     "iopub.execute_input": "2023-07-12T07:38:57.342623Z",
     "iopub.status.busy": "2023-07-12T07:38:57.342160Z",
     "iopub.status.idle": "2023-07-12T07:38:57.357969Z",
     "shell.execute_reply": "2023-07-12T07:38:57.356687Z",
     "shell.execute_reply.started": "2023-07-12T07:38:57.342585Z"
    },
    "papermill": {
     "duration": null,
     "end_time": null,
     "exception": null,
     "start_time": null,
     "status": "pending"
    },
    "tags": []
   },
   "outputs": [],
   "source": [
    "from scipy import stats\n",
    "a=[85, 90, 92, 88, 91]\n",
    "b=[82, 88, 90, 86, 87]\n",
    "\n",
    "t_test,p_val=stats.ttest_ind(a,b)\n",
    "print(t_test)\n",
    "print(p_val)"
   ]
  },
  {
   "cell_type": "markdown",
   "id": "cdf1bae9",
   "metadata": {
    "papermill": {
     "duration": null,
     "end_time": null,
     "exception": null,
     "start_time": null,
     "status": "pending"
    },
    "tags": []
   },
   "source": [
    "6. Scenario: A company wants to analyze the relationship between advertising expenditure and\n",
    "sales. The data collected is as follows:\n",
    "Advertising Expenditure (in thousands): [10, 15, 12, 8, 14]\n",
    "Sales (in thousands): [25, 30, 28, 20, 26]\n",
    "Calculate the correlation coefficient between advertising expenditure and sales."
   ]
  },
  {
   "cell_type": "code",
   "execution_count": null,
   "id": "6d200eae",
   "metadata": {
    "execution": {
     "iopub.execute_input": "2023-07-12T07:46:56.646824Z",
     "iopub.status.busy": "2023-07-12T07:46:56.646331Z",
     "iopub.status.idle": "2023-07-12T07:46:56.657795Z",
     "shell.execute_reply": "2023-07-12T07:46:56.656896Z",
     "shell.execute_reply.started": "2023-07-12T07:46:56.646783Z"
    },
    "papermill": {
     "duration": null,
     "end_time": null,
     "exception": null,
     "start_time": null,
     "status": "pending"
    },
    "tags": []
   },
   "outputs": [],
   "source": [
    "import numpy as np\n",
    "adv_exp=([10, 15, 12, 8, 14])\n",
    "sales_exp=[25, 30, 28, 20, 26] \n",
    "print(\"coerrcoeff is :\",np.corrcoef(adv_exp,sales_exp)[0,1])"
   ]
  },
  {
   "cell_type": "markdown",
   "id": "e26c5b0a",
   "metadata": {
    "papermill": {
     "duration": null,
     "end_time": null,
     "exception": null,
     "start_time": null,
     "status": "pending"
    },
    "tags": []
   },
   "source": [
    "7. Scenario: A survey is conducted to measure the heights of a group of people. The data\n",
    "collected is as follows:\n",
    "[160, 170, 165, 155, 175, 180, 170]\n",
    "Calculate the standard deviation of the heights."
   ]
  },
  {
   "cell_type": "code",
   "execution_count": null,
   "id": "37024c91",
   "metadata": {
    "execution": {
     "iopub.execute_input": "2023-07-12T07:47:38.785617Z",
     "iopub.status.busy": "2023-07-12T07:47:38.785178Z",
     "iopub.status.idle": "2023-07-12T07:47:38.793649Z",
     "shell.execute_reply": "2023-07-12T07:47:38.792451Z",
     "shell.execute_reply.started": "2023-07-12T07:47:38.785584Z"
    },
    "papermill": {
     "duration": null,
     "end_time": null,
     "exception": null,
     "start_time": null,
     "status": "pending"
    },
    "tags": []
   },
   "outputs": [],
   "source": [
    "st.stdev([160, 170, 165, 155, 175, 180, 170])"
   ]
  },
  {
   "cell_type": "markdown",
   "id": "de70e150",
   "metadata": {
    "papermill": {
     "duration": null,
     "end_time": null,
     "exception": null,
     "start_time": null,
     "status": "pending"
    },
    "tags": []
   },
   "source": [
    "8. Scenario: A company wants to analyze the relationship between employee tenure and job\n",
    "satisfaction. The data collected is as follows:\n",
    "\n",
    "Employee Tenure (in years): [2, 3, 5, 4, 6, 2, 4]\n",
    "Job Satisfaction (on a scale of 1 to 10): [7, 8, 6, 9, 5, 7, 6]\n",
    "Perform a linear regression analysis to predict job satisfaction based on employee tenure."
   ]
  },
  {
   "cell_type": "code",
   "execution_count": null,
   "id": "87cd2e53",
   "metadata": {
    "execution": {
     "iopub.execute_input": "2023-07-12T07:49:49.697157Z",
     "iopub.status.busy": "2023-07-12T07:49:49.696694Z",
     "iopub.status.idle": "2023-07-12T07:49:49.707708Z",
     "shell.execute_reply": "2023-07-12T07:49:49.706415Z",
     "shell.execute_reply.started": "2023-07-12T07:49:49.697125Z"
    },
    "papermill": {
     "duration": null,
     "end_time": null,
     "exception": null,
     "start_time": null,
     "status": "pending"
    },
    "tags": []
   },
   "outputs": [],
   "source": [
    "employee_tenure = [2, 3, 5, 4, 6, 2, 4]\n",
    "job_satisfaction = [7, 8, 6, 9, 5, 7, 6]\n",
    "\n",
    "slope, intercept, r_value, p_value, std_err = stats.linregress(employee_tenure, job_satisfaction)\n",
    "\n",
    "\n",
    "print(\"Slope:\", slope)\n",
    "print(\"Intercept:\", intercept)\n",
    "print(\"R-squared:\", r_value**2)\n",
    "print(\"P-value:\", p_value)\n"
   ]
  },
  {
   "cell_type": "markdown",
   "id": "6e8237d0",
   "metadata": {
    "papermill": {
     "duration": null,
     "end_time": null,
     "exception": null,
     "start_time": null,
     "status": "pending"
    },
    "tags": []
   },
   "source": [
    "9. Scenario: A study is conducted to compare the effectiveness of two different medications.\n",
    "The recovery times of the patients in each group are as follows:\n",
    "Medication A: [10, 12, 14, 11, 13]\n",
    "Medication B: [15, 17, 16, 14, 18]\n",
    "Perform an analysis of variance (ANOVA) to determine if there is a significant difference in the\n",
    "mean recovery times between the two medications."
   ]
  },
  {
   "cell_type": "code",
   "execution_count": null,
   "id": "e21864de",
   "metadata": {
    "execution": {
     "iopub.execute_input": "2023-07-12T07:53:40.314498Z",
     "iopub.status.busy": "2023-07-12T07:53:40.314022Z",
     "iopub.status.idle": "2023-07-12T07:53:40.321696Z",
     "shell.execute_reply": "2023-07-12T07:53:40.320509Z",
     "shell.execute_reply.started": "2023-07-12T07:53:40.314465Z"
    },
    "papermill": {
     "duration": null,
     "end_time": null,
     "exception": null,
     "start_time": null,
     "status": "pending"
    },
    "tags": []
   },
   "outputs": [],
   "source": [
    "a = [10, 12, 14, 11, 13]\n",
    "b = [15, 17, 16, 14, 18]\n",
    "\n",
    "f_statistic, p_value = stats.f_oneway(a, b)\n",
    "\n",
    "print(\"F-Statistic:\", f_statistic)\n",
    "print(\"P-Value:\", p_value)"
   ]
  },
  {
   "cell_type": "markdown",
   "id": "1f952fed",
   "metadata": {
    "papermill": {
     "duration": null,
     "end_time": null,
     "exception": null,
     "start_time": null,
     "status": "pending"
    },
    "tags": []
   },
   "source": [
    "10. Scenario: A company wants to analyze customer feedback ratings on a scale of 1 to 10. The\n",
    "data collected is\n",
    "as follows:\n",
    "[8, 9, 7, 6, 8, 10, 9, 8, 7, 8]\n",
    "Calculate the 75th percentile of the feedback ratings."
   ]
  },
  {
   "cell_type": "code",
   "execution_count": null,
   "id": "fd913cb3",
   "metadata": {
    "execution": {
     "iopub.execute_input": "2023-07-12T08:05:52.120797Z",
     "iopub.status.busy": "2023-07-12T08:05:52.119423Z",
     "iopub.status.idle": "2023-07-12T08:05:52.133547Z",
     "shell.execute_reply": "2023-07-12T08:05:52.132243Z",
     "shell.execute_reply.started": "2023-07-12T08:05:52.120740Z"
    },
    "papermill": {
     "duration": null,
     "end_time": null,
     "exception": null,
     "start_time": null,
     "status": "pending"
    },
    "tags": []
   },
   "outputs": [],
   "source": [
    "np.percentile([8, 9, 7, 6, 8, 10, 9, 8, 7, 8], 75)"
   ]
  },
  {
   "cell_type": "markdown",
   "id": "4c2f7317",
   "metadata": {
    "papermill": {
     "duration": null,
     "end_time": null,
     "exception": null,
     "start_time": null,
     "status": "pending"
    },
    "tags": []
   },
   "source": [
    "11. Scenario: A quality control department wants to test the weight consistency of a product.\n",
    "The weights of a sample of products are as follows:\n",
    "[10.2, 9.8, 10.0, 10.5, 10.3, 10.1]\n",
    "Perform a hypothesis test to determine if the mean weight differs significantly from 10 grams."
   ]
  },
  {
   "cell_type": "code",
   "execution_count": null,
   "id": "543d67bc",
   "metadata": {
    "execution": {
     "iopub.execute_input": "2023-07-12T12:42:37.113958Z",
     "iopub.status.busy": "2023-07-12T12:42:37.113540Z",
     "iopub.status.idle": "2023-07-12T12:42:37.122756Z",
     "shell.execute_reply": "2023-07-12T12:42:37.121500Z",
     "shell.execute_reply.started": "2023-07-12T12:42:37.113924Z"
    },
    "papermill": {
     "duration": null,
     "end_time": null,
     "exception": null,
     "start_time": null,
     "status": "pending"
    },
    "tags": []
   },
   "outputs": [],
   "source": [
    "sample_weights = [10.2, 9.8, 10.0, 10.5, 10.3, 10.1]\n",
    "\n",
    "hypothesized_mean = 10.0\n",
    "\n",
    "t_statistic, p_value = st.ttest_1samp(sample_weights, hypothesized_mean)\n",
    "\n",
    "alpha = 0.05\n",
    "\n",
    "print(\"T-statistic:\", t_statistic)\n",
    "print(\"P-value:\", p_value)\n",
    "\n",
    "if p_value < alpha:\n",
    "    print(\"Reject the null hypothesis. The mean weight differs significantly from 10 grams.\")\n",
    "else:\n",
    "    print(\"Fail to reject the null hypothesis. The mean weight does not differ significantly from 10 grams.\")"
   ]
  },
  {
   "cell_type": "markdown",
   "id": "23d0fc78",
   "metadata": {
    "papermill": {
     "duration": null,
     "end_time": null,
     "exception": null,
     "start_time": null,
     "status": "pending"
    },
    "tags": []
   },
   "source": [
    "12. Scenario: A company wants to analyze the click-through rates of two different website\n",
    "designs. The number of clicks for each design is as follows:\n",
    "Design A: [100, 120, 110, 90, 95]\n",
    "Design B: [80, 85, 90, 95, 100]\n",
    "Perform a chi-square test to determine if there is a significant difference in the click-through\n",
    "rates between the two designs."
   ]
  },
  {
   "cell_type": "code",
   "execution_count": null,
   "id": "619ee0e2",
   "metadata": {
    "execution": {
     "iopub.execute_input": "2023-07-12T12:26:17.116652Z",
     "iopub.status.busy": "2023-07-12T12:26:17.116098Z",
     "iopub.status.idle": "2023-07-12T12:26:17.668797Z",
     "shell.execute_reply": "2023-07-12T12:26:17.667795Z",
     "shell.execute_reply.started": "2023-07-12T12:26:17.116609Z"
    },
    "papermill": {
     "duration": null,
     "end_time": null,
     "exception": null,
     "start_time": null,
     "status": "pending"
    },
    "tags": []
   },
   "outputs": [],
   "source": [
    "from scipy.stats import chi2_contingency\n",
    "\n",
    "design_A = [100, 120, 110, 90, 95]\n",
    "design_B = [80, 85, 90, 95, 100]\n",
    "\n",
    "categories_A = [1 if rate >= 100 else 0 for rate in design_A]\n",
    "categories_B = [1 if rate >= 100 else 0 for rate in design_B]\n",
    "\n",
    "observed = [[categories_A.count(0), categories_A.count(1)],\n",
    "[categories_B.count(0), categories_B.count(1)]]\n",
    "\n",
    "chi2, p_value, _, _ = chi2_contingency(observed)\n",
    "\n",
    "print(\"Chi-square statistic:\", chi2)\n",
    "print(\"p-value:\", p_value)"
   ]
  },
  {
   "cell_type": "markdown",
   "id": "196260fc",
   "metadata": {
    "papermill": {
     "duration": null,
     "end_time": null,
     "exception": null,
     "start_time": null,
     "status": "pending"
    },
    "tags": []
   },
   "source": [
    "13. Scenario: A survey is conducted to measure customer satisfaction with a product on a scale\n",
    "of 1 to 10. The data collected is as follows:\n",
    "[7, 9, 6, 8, 10, 7, 8, 9, 7, 8]\n",
    "Calculate the 95% confidence interval for the population mean satisfaction score."
   ]
  },
  {
   "cell_type": "code",
   "execution_count": null,
   "id": "205566c5",
   "metadata": {
    "execution": {
     "iopub.execute_input": "2023-07-12T12:28:31.672805Z",
     "iopub.status.busy": "2023-07-12T12:28:31.672421Z",
     "iopub.status.idle": "2023-07-12T12:28:31.684566Z",
     "shell.execute_reply": "2023-07-12T12:28:31.683501Z",
     "shell.execute_reply.started": "2023-07-12T12:28:31.672774Z"
    },
    "papermill": {
     "duration": null,
     "end_time": null,
     "exception": null,
     "start_time": null,
     "status": "pending"
    },
    "tags": []
   },
   "outputs": [],
   "source": [
    "import numpy as np\n",
    "from scipy.stats import t\n",
    "\n",
    "data = [7, 9, 6, 8, 10, 7, 8, 9, 7, 8]\n",
    "\n",
    "\n",
    "n = len(data)\n",
    "\n",
    "\n",
    "mean = np.mean(data)\n",
    "std_dev = np.std(data, ddof=1)\n",
    "\n",
    "\n",
    "df = n - 1\n",
    "\n",
    "alpha = 0.05\n",
    "critical_value = t.ppf(1 - alpha/2, df)\n",
    "\n",
    "std_error = std_dev / np.sqrt(n)\n",
    "\n",
    "confidence_interval = t.interval(1 - alpha, df, mean, std_error)\n",
    "\n",
    "print(\"95% Confidence Interval:\", confidence_interval)"
   ]
  },
  {
   "cell_type": "markdown",
   "id": "c92e2a54",
   "metadata": {
    "papermill": {
     "duration": null,
     "end_time": null,
     "exception": null,
     "start_time": null,
     "status": "pending"
    },
    "tags": []
   },
   "source": [
    "14. Scenario: A company wants to analyze the effect of temperature on product performance.\n",
    "The data collected is as follows:\n",
    "Temperature (in degrees Celsius): [20, 22, 23, 19, 21]\n",
    "Performance (on a scale of 1 to 10): [8, 7, 9, 6, 8]\n",
    "Perform a simple linear regression to predict performance based on temperature."
   ]
  },
  {
   "cell_type": "code",
   "execution_count": null,
   "id": "a9d64d01",
   "metadata": {
    "execution": {
     "iopub.execute_input": "2023-07-12T12:30:57.131336Z",
     "iopub.status.busy": "2023-07-12T12:30:57.130915Z",
     "iopub.status.idle": "2023-07-12T12:30:57.142717Z",
     "shell.execute_reply": "2023-07-12T12:30:57.141483Z",
     "shell.execute_reply.started": "2023-07-12T12:30:57.131301Z"
    },
    "papermill": {
     "duration": null,
     "end_time": null,
     "exception": null,
     "start_time": null,
     "status": "pending"
    },
    "tags": []
   },
   "outputs": [],
   "source": [
    "import numpy as np\n",
    "from scipy import stats as st\n",
    "\n",
    "temperature = [20, 22, 23, 19, 21]\n",
    "performance = [8, 7, 9, 6, 8]\n",
    "\n",
    "slope, intercept, r_value, p_value, std_err = st.linregress(temperature, performance)\n",
    "\n",
    "print(\"Slope:\", slope)\n",
    "print(\"Intercept:\", intercept)\n",
    "print(\"R-squared:\", r_value**2)\n",
    "print(\"p-value:\", p_value)"
   ]
  },
  {
   "cell_type": "markdown",
   "id": "ff50bd1b",
   "metadata": {
    "papermill": {
     "duration": null,
     "end_time": null,
     "exception": null,
     "start_time": null,
     "status": "pending"
    },
    "tags": []
   },
   "source": [
    "15. Scenario: A study is conducted to compare the preferences of two groups of participants.\n",
    "The preferences are measured on a Likert scale from 1 to 5. The data collected is as follows:\n",
    "Group A: [4, 3, 5, 2, 4]\n",
    "\n",
    "\n",
    "\n",
    "\n",
    "Group B: [3, 2, 4, 3, 3]\n",
    "Perform a Mann-Whitney U test to determine if there is a significant difference in the median\n",
    "preferences between the two groups."
   ]
  },
  {
   "cell_type": "code",
   "execution_count": null,
   "id": "d684b601",
   "metadata": {
    "execution": {
     "iopub.execute_input": "2023-07-12T12:32:41.614845Z",
     "iopub.status.busy": "2023-07-12T12:32:41.614446Z",
     "iopub.status.idle": "2023-07-12T12:32:41.628348Z",
     "shell.execute_reply": "2023-07-12T12:32:41.626844Z",
     "shell.execute_reply.started": "2023-07-12T12:32:41.614813Z"
    },
    "papermill": {
     "duration": null,
     "end_time": null,
     "exception": null,
     "start_time": null,
     "status": "pending"
    },
    "tags": []
   },
   "outputs": [],
   "source": [
    "group_a = [4, 3, 5, 2, 4]\n",
    "group_b = [3, 2, 4, 3, 3]\n",
    "\n",
    "\n",
    "statistic, p_value = st.mannwhitneyu(group_a, group_b)\n",
    "\n",
    "print(\"Mann-Whitney U statistic:\", statistic)\n",
    "print(\"P-value:\", p_value)"
   ]
  },
  {
   "cell_type": "markdown",
   "id": "fb1eb6bd",
   "metadata": {
    "papermill": {
     "duration": null,
     "end_time": null,
     "exception": null,
     "start_time": null,
     "status": "pending"
    },
    "tags": []
   },
   "source": [
    "16. Scenario: A company wants to analyze the distribution of customer ages. The data collected\n",
    "is as follows:\n",
    "[25, 30, 35, 40, 45, 50, 55, 60, 65, 70]\n",
    "Calculate the interquartile range (IQR) of the ages."
   ]
  },
  {
   "cell_type": "code",
   "execution_count": null,
   "id": "243a2acd",
   "metadata": {
    "execution": {
     "iopub.execute_input": "2023-07-12T12:33:28.357739Z",
     "iopub.status.busy": "2023-07-12T12:33:28.357320Z",
     "iopub.status.idle": "2023-07-12T12:33:28.368395Z",
     "shell.execute_reply": "2023-07-12T12:33:28.367088Z",
     "shell.execute_reply.started": "2023-07-12T12:33:28.357706Z"
    },
    "papermill": {
     "duration": null,
     "end_time": null,
     "exception": null,
     "start_time": null,
     "status": "pending"
    },
    "tags": []
   },
   "outputs": [],
   "source": [
    "ages = [25, 30, 35, 40, 45, 50, 55, 60, 65, 70]\n",
    "\n",
    "q1 = np.percentile(ages, 25)\n",
    "\n",
    "q3 = np.percentile(ages, 75)\n",
    "\n",
    "iqr = q3 - q1\n",
    "\n",
    "print(\"Interquartile Range (IQR):\", iqr)"
   ]
  },
  {
   "cell_type": "markdown",
   "id": "8526f31d",
   "metadata": {
    "papermill": {
     "duration": null,
     "end_time": null,
     "exception": null,
     "start_time": null,
     "status": "pending"
    },
    "tags": []
   },
   "source": [
    "17. Scenario: A study is conducted to compare the performance of three different machine\n",
    "learning algorithms. The accuracy scores for each algorithm are as follows:\n",
    "Algorithm A: [0.85, 0.80, 0.82, 0.87, 0.83]\n",
    "Algorithm B: [0.78, 0.82, 0.84, 0.80, 0.79]\n",
    "Algorithm C: [0.90, 0.88, 0.89, 0.86, 0.87]\n",
    "Perform a Kruskal-Wallis test to determine if there is a significant difference in the median\n",
    "accuracy scores between the algorithms."
   ]
  },
  {
   "cell_type": "code",
   "execution_count": null,
   "id": "3bc1bce7",
   "metadata": {
    "execution": {
     "iopub.execute_input": "2023-07-12T12:35:42.295208Z",
     "iopub.status.busy": "2023-07-12T12:35:42.294776Z",
     "iopub.status.idle": "2023-07-12T12:35:42.303661Z",
     "shell.execute_reply": "2023-07-12T12:35:42.302618Z",
     "shell.execute_reply.started": "2023-07-12T12:35:42.295166Z"
    },
    "papermill": {
     "duration": null,
     "end_time": null,
     "exception": null,
     "start_time": null,
     "status": "pending"
    },
    "tags": []
   },
   "outputs": [],
   "source": [
    "algorithm_A = [0.85, 0.80, 0.82, 0.87, 0.83]\n",
    "algorithm_B = [0.78, 0.82, 0.84, 0.80, 0.79]\n",
    "algorithm_C = [0.90, 0.88, 0.89, 0.86, 0.87]\n",
    "\n",
    "statistic, p_value = st.kruskal(algorithm_A, algorithm_B, algorithm_C)\n",
    "\n",
    "print(\"Kruskal-Wallis Test:\")\n",
    "print(\"Test statistic:\", statistic)\n",
    "print(\"p-value:\", p_value)"
   ]
  },
  {
   "cell_type": "markdown",
   "id": "fea51acc",
   "metadata": {
    "papermill": {
     "duration": null,
     "end_time": null,
     "exception": null,
     "start_time": null,
     "status": "pending"
    },
    "tags": []
   },
   "source": [
    "18. Scenario: A company wants to analyze the effect of price on sales. The data collected is as\n",
    "follows:\n",
    "Price (in dollars): [10, 15, 12, 8, 14]\n",
    "Sales: [100, 80, 90, 110, 95]\n",
    "Perform a simple linear regression to predict\n",
    "sales based on price."
   ]
  },
  {
   "cell_type": "markdown",
   "id": "2015e1cc",
   "metadata": {
    "papermill": {
     "duration": null,
     "end_time": null,
     "exception": null,
     "start_time": null,
     "status": "pending"
    },
    "tags": []
   },
   "source": [
    "19. Scenario: A survey is conducted to measure the satisfaction levels of customers with a new\n",
    "product. The data collected is as follows:\n",
    "[7, 8, 9, 6, 8, 7, 9, 7, 8, 7]\n",
    "Calculate the standard error of the mean satisfaction score."
   ]
  },
  {
   "cell_type": "code",
   "execution_count": null,
   "id": "fa65fb39",
   "metadata": {
    "execution": {
     "iopub.execute_input": "2023-07-12T12:40:17.340919Z",
     "iopub.status.busy": "2023-07-12T12:40:17.340505Z",
     "iopub.status.idle": "2023-07-12T12:40:17.349221Z",
     "shell.execute_reply": "2023-07-12T12:40:17.347696Z",
     "shell.execute_reply.started": "2023-07-12T12:40:17.340888Z"
    },
    "papermill": {
     "duration": null,
     "end_time": null,
     "exception": null,
     "start_time": null,
     "status": "pending"
    },
    "tags": []
   },
   "outputs": [],
   "source": [
    "\n",
    "data = [7, 8, 9, 6, 8, 7, 9, 7, 8, 7]\n",
    "\n",
    "standard_error = st.tstd(data) / (len(data) ** 0.5)\n",
    "\n",
    "print(\"Standard Error of the Mean:\", standard_error)"
   ]
  },
  {
   "cell_type": "markdown",
   "id": "4a9ff84f",
   "metadata": {
    "papermill": {
     "duration": null,
     "end_time": null,
     "exception": null,
     "start_time": null,
     "status": "pending"
    },
    "tags": []
   },
   "source": [
    "20. Scenario: A company wants to analyze the relationship between advertising expenditure\n",
    "and sales. The data collected is as follows:\n",
    "Advertising Expenditure (in thousands): [10, 15, 12, 8, 14]\n",
    "Sales (in thousands): [25, 30, 28, 20, 26]\n",
    "Perform a multiple regression analysis to predict sales based on advertising expenditure."
   ]
  },
  {
   "cell_type": "code",
   "execution_count": null,
   "id": "3e591896",
   "metadata": {
    "papermill": {
     "duration": null,
     "end_time": null,
     "exception": null,
     "start_time": null,
     "status": "pending"
    },
    "tags": []
   },
   "outputs": [],
   "source": []
  }
 ],
 "metadata": {
  "kernelspec": {
   "display_name": "Python 3",
   "language": "python",
   "name": "python3"
  },
  "language_info": {
   "codemirror_mode": {
    "name": "ipython",
    "version": 3
   },
   "file_extension": ".py",
   "mimetype": "text/x-python",
   "name": "python",
   "nbconvert_exporter": "python",
   "pygments_lexer": "ipython3",
   "version": "3.10.12"
  },
  "papermill": {
   "default_parameters": {},
   "duration": 13.498387,
   "end_time": "2023-07-12T12:43:10.824551",
   "environment_variables": {},
   "exception": true,
   "input_path": "__notebook__.ipynb",
   "output_path": "__notebook__.ipynb",
   "parameters": {},
   "start_time": "2023-07-12T12:42:57.326164",
   "version": "2.4.0"
  }
 },
 "nbformat": 4,
 "nbformat_minor": 5
}
