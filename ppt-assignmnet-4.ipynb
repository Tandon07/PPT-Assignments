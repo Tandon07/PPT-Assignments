{
 "cells": [
  {
   "cell_type": "code",
   "execution_count": 1,
   "id": "0aef0619",
   "metadata": {
    "_cell_guid": "b1076dfc-b9ad-4769-8c92-a6c4dae69d19",
    "_uuid": "8f2839f25d086af736a60e9eeb907d3b93b6e0e5",
    "execution": {
     "iopub.execute_input": "2023-07-12T13:43:52.675046Z",
     "iopub.status.busy": "2023-07-12T13:43:52.674191Z",
     "iopub.status.idle": "2023-07-12T13:43:52.679818Z",
     "shell.execute_reply": "2023-07-12T13:43:52.678899Z"
    },
    "papermill": {
     "duration": 0.013621,
     "end_time": "2023-07-12T13:43:52.681766",
     "exception": false,
     "start_time": "2023-07-12T13:43:52.668145",
     "status": "completed"
    },
    "tags": []
   },
   "outputs": [],
   "source": [
    "# Q1"
   ]
  },
  {
   "cell_type": "code",
   "execution_count": 2,
   "id": "ad059293",
   "metadata": {
    "execution": {
     "iopub.execute_input": "2023-07-12T13:43:52.690747Z",
     "iopub.status.busy": "2023-07-12T13:43:52.690060Z",
     "iopub.status.idle": "2023-07-12T13:43:52.702003Z",
     "shell.execute_reply": "2023-07-12T13:43:52.700902Z"
    },
    "papermill": {
     "duration": 0.018696,
     "end_time": "2023-07-12T13:43:52.704112",
     "exception": false,
     "start_time": "2023-07-12T13:43:52.685416",
     "status": "completed"
    },
    "tags": []
   },
   "outputs": [
    {
     "name": "stdout",
     "output_type": "stream",
     "text": [
      "[1, 5]\n"
     ]
    }
   ],
   "source": [
    "def select_appeared_in_all(l1,l2,l3):\n",
    "    i=j=k=0\n",
    "    l=[]\n",
    "    while (i<len(l1)):\n",
    "        if l1[i]==l2[j]==l3[k]:\n",
    "            l.append(l1[i])\n",
    "            i+=1\n",
    "            j+=1\n",
    "            k+=1\n",
    "        elif (l1[i]<l2[j]):\n",
    "            i+=1\n",
    "        elif(l2[j]<l3[k]):\n",
    "            j+=1\n",
    "        else:\n",
    "            k+=1\n",
    "    return l\n",
    "print(select_appeared_in_all([1,2,3,4,5],[1,2,5,7,9],[1,3,4,5,8]))\n",
    "                \n",
    "                \n",
    "            \n",
    "            "
   ]
  },
  {
   "cell_type": "code",
   "execution_count": 3,
   "id": "dcec8a45",
   "metadata": {
    "execution": {
     "iopub.execute_input": "2023-07-12T13:43:52.712967Z",
     "iopub.status.busy": "2023-07-12T13:43:52.712523Z",
     "iopub.status.idle": "2023-07-12T13:43:52.716357Z",
     "shell.execute_reply": "2023-07-12T13:43:52.715619Z"
    },
    "papermill": {
     "duration": 0.010474,
     "end_time": "2023-07-12T13:43:52.718097",
     "exception": false,
     "start_time": "2023-07-12T13:43:52.707623",
     "status": "completed"
    },
    "tags": []
   },
   "outputs": [],
   "source": [
    "# Q2"
   ]
  },
  {
   "cell_type": "code",
   "execution_count": 4,
   "id": "b6b12231",
   "metadata": {
    "execution": {
     "iopub.execute_input": "2023-07-12T13:43:52.726997Z",
     "iopub.status.busy": "2023-07-12T13:43:52.726397Z",
     "iopub.status.idle": "2023-07-12T13:43:52.733372Z",
     "shell.execute_reply": "2023-07-12T13:43:52.732448Z"
    },
    "papermill": {
     "duration": 0.014394,
     "end_time": "2023-07-12T13:43:52.736031",
     "exception": false,
     "start_time": "2023-07-12T13:43:52.721637",
     "status": "completed"
    },
    "tags": []
   },
   "outputs": [
    {
     "name": "stdout",
     "output_type": "stream",
     "text": [
      "0\n",
      "1 2\n",
      "1 4\n",
      "1 6\n",
      "1\n",
      "2\n",
      "None\n"
     ]
    }
   ],
   "source": [
    "def distinct_not_present(l1,l2):\n",
    "    l_a=[]\n",
    "    i=j=0\n",
    "    while(i<len(l1)):\n",
    "        print(i)\n",
    "        while(j<len(l2)):\n",
    "            print(l1[i],l2[j])\n",
    "            if l1[i]==l2[j]:\n",
    "                l1.remove(l2[j])\n",
    "            j+=1\n",
    "        i+=1\n",
    "    return l1.append(l2)\n",
    "print(distinct_not_present([1,2,3],[2,4,6]))"
   ]
  },
  {
   "cell_type": "code",
   "execution_count": 5,
   "id": "fecd8e2c",
   "metadata": {
    "execution": {
     "iopub.execute_input": "2023-07-12T13:43:52.745374Z",
     "iopub.status.busy": "2023-07-12T13:43:52.744980Z",
     "iopub.status.idle": "2023-07-12T13:43:52.750052Z",
     "shell.execute_reply": "2023-07-12T13:43:52.748113Z"
    },
    "papermill": {
     "duration": 0.012704,
     "end_time": "2023-07-12T13:43:52.752450",
     "exception": false,
     "start_time": "2023-07-12T13:43:52.739746",
     "status": "completed"
    },
    "tags": []
   },
   "outputs": [],
   "source": [
    "# Q3"
   ]
  },
  {
   "cell_type": "code",
   "execution_count": 6,
   "id": "ae25a4de",
   "metadata": {
    "execution": {
     "iopub.execute_input": "2023-07-12T13:43:52.761177Z",
     "iopub.status.busy": "2023-07-12T13:43:52.760774Z",
     "iopub.status.idle": "2023-07-12T13:43:52.767387Z",
     "shell.execute_reply": "2023-07-12T13:43:52.766375Z"
    },
    "papermill": {
     "duration": 0.01344,
     "end_time": "2023-07-12T13:43:52.769657",
     "exception": false,
     "start_time": "2023-07-12T13:43:52.756217",
     "status": "completed"
    },
    "tags": []
   },
   "outputs": [
    {
     "name": "stdout",
     "output_type": "stream",
     "text": [
      "[[1, 4, 7], [4, 5, 8], [7, 8, 9]]\n"
     ]
    }
   ],
   "source": [
    "def transpose_mat(l):\n",
    "    l1=len(l)\n",
    "    lt=[]\n",
    "    for i in range(l1):\n",
    "        for k in range(l1):\n",
    "            l[i][k]=(l[k][i])\n",
    "    return l\n",
    "print(transpose_mat([[1,2,3],[4,5,6],[7,8,9]]))"
   ]
  },
  {
   "cell_type": "code",
   "execution_count": 7,
   "id": "10e2fc8e",
   "metadata": {
    "execution": {
     "iopub.execute_input": "2023-07-12T13:43:52.779759Z",
     "iopub.status.busy": "2023-07-12T13:43:52.778316Z",
     "iopub.status.idle": "2023-07-12T13:43:52.784242Z",
     "shell.execute_reply": "2023-07-12T13:43:52.782641Z"
    },
    "papermill": {
     "duration": 0.013325,
     "end_time": "2023-07-12T13:43:52.786773",
     "exception": false,
     "start_time": "2023-07-12T13:43:52.773448",
     "status": "completed"
    },
    "tags": []
   },
   "outputs": [],
   "source": [
    "# Q4"
   ]
  },
  {
   "cell_type": "code",
   "execution_count": 8,
   "id": "875fc367",
   "metadata": {
    "execution": {
     "iopub.execute_input": "2023-07-12T13:43:52.796967Z",
     "iopub.status.busy": "2023-07-12T13:43:52.796125Z",
     "iopub.status.idle": "2023-07-12T13:43:52.801895Z",
     "shell.execute_reply": "2023-07-12T13:43:52.800746Z"
    },
    "papermill": {
     "duration": 0.013936,
     "end_time": "2023-07-12T13:43:52.804657",
     "exception": false,
     "start_time": "2023-07-12T13:43:52.790721",
     "status": "completed"
    },
    "tags": []
   },
   "outputs": [],
   "source": [
    "def array_pair_sum(nums):\n",
    "    nums.sort()\n",
    "    max_sum = 0\n",
    "\n",
    "    for i in range(0, len(nums), 2):\n",
    "        max_sum += nums[i]\n",
    "\n",
    "    return max_sum"
   ]
  },
  {
   "cell_type": "code",
   "execution_count": 9,
   "id": "e3448e7f",
   "metadata": {
    "execution": {
     "iopub.execute_input": "2023-07-12T13:43:52.816684Z",
     "iopub.status.busy": "2023-07-12T13:43:52.815556Z",
     "iopub.status.idle": "2023-07-12T13:43:52.821533Z",
     "shell.execute_reply": "2023-07-12T13:43:52.820451Z"
    },
    "papermill": {
     "duration": 0.014478,
     "end_time": "2023-07-12T13:43:52.824180",
     "exception": false,
     "start_time": "2023-07-12T13:43:52.809702",
     "status": "completed"
    },
    "tags": []
   },
   "outputs": [],
   "source": [
    "# Q6"
   ]
  },
  {
   "cell_type": "code",
   "execution_count": 10,
   "id": "3bce2b85",
   "metadata": {
    "execution": {
     "iopub.execute_input": "2023-07-12T13:43:52.835382Z",
     "iopub.status.busy": "2023-07-12T13:43:52.834909Z",
     "iopub.status.idle": "2023-07-12T13:43:52.839819Z",
     "shell.execute_reply": "2023-07-12T13:43:52.839047Z"
    },
    "papermill": {
     "duration": 0.013845,
     "end_time": "2023-07-12T13:43:52.842237",
     "exception": false,
     "start_time": "2023-07-12T13:43:52.828392",
     "status": "completed"
    },
    "tags": []
   },
   "outputs": [],
   "source": [
    "def sorted_squares(nums):\n",
    "    squared_nums = [num * num for num in nums]\n",
    "    squared_nums.sort()\n",
    "    return squared_nums"
   ]
  },
  {
   "cell_type": "code",
   "execution_count": 11,
   "id": "213a70d6",
   "metadata": {
    "execution": {
     "iopub.execute_input": "2023-07-12T13:43:52.853412Z",
     "iopub.status.busy": "2023-07-12T13:43:52.853040Z",
     "iopub.status.idle": "2023-07-12T13:43:52.856797Z",
     "shell.execute_reply": "2023-07-12T13:43:52.856049Z"
    },
    "papermill": {
     "duration": 0.011224,
     "end_time": "2023-07-12T13:43:52.858422",
     "exception": false,
     "start_time": "2023-07-12T13:43:52.847198",
     "status": "completed"
    },
    "tags": []
   },
   "outputs": [],
   "source": [
    "# Q8"
   ]
  },
  {
   "cell_type": "code",
   "execution_count": 12,
   "id": "4b364c0d",
   "metadata": {
    "execution": {
     "iopub.execute_input": "2023-07-12T13:43:52.868296Z",
     "iopub.status.busy": "2023-07-12T13:43:52.866718Z",
     "iopub.status.idle": "2023-07-12T13:43:52.874469Z",
     "shell.execute_reply": "2023-07-12T13:43:52.872510Z"
    },
    "papermill": {
     "duration": 0.015504,
     "end_time": "2023-07-12T13:43:52.877574",
     "exception": false,
     "start_time": "2023-07-12T13:43:52.862070",
     "status": "completed"
    },
    "tags": []
   },
   "outputs": [],
   "source": [
    "def rearrange_array(nums, n):\n",
    "    x = nums[:n]\n",
    "    y = nums[n:]\n",
    "    result = []\n",
    "\n",
    "    for i in range(n):\n",
    "        result.append(x[i])\n",
    "        result.append(y[i])\n",
    "\n",
    "    return result"
   ]
  },
  {
   "cell_type": "code",
   "execution_count": null,
   "id": "7fe2ff9e",
   "metadata": {
    "papermill": {
     "duration": 0.006033,
     "end_time": "2023-07-12T13:43:52.888647",
     "exception": false,
     "start_time": "2023-07-12T13:43:52.882614",
     "status": "completed"
    },
    "tags": []
   },
   "outputs": [],
   "source": []
  }
 ],
 "metadata": {
  "kernelspec": {
   "display_name": "Python 3",
   "language": "python",
   "name": "python3"
  },
  "language_info": {
   "codemirror_mode": {
    "name": "ipython",
    "version": 3
   },
   "file_extension": ".py",
   "mimetype": "text/x-python",
   "name": "python",
   "nbconvert_exporter": "python",
   "pygments_lexer": "ipython3",
   "version": "3.10.12"
  },
  "papermill": {
   "default_parameters": {},
   "duration": 10.984786,
   "end_time": "2023-07-12T13:43:53.916091",
   "environment_variables": {},
   "exception": null,
   "input_path": "__notebook__.ipynb",
   "output_path": "__notebook__.ipynb",
   "parameters": {},
   "start_time": "2023-07-12T13:43:42.931305",
   "version": "2.4.0"
  }
 },
 "nbformat": 4,
 "nbformat_minor": 5
}
