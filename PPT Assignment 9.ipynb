{
 "cells": [
  {
   "cell_type": "code",
   "execution_count": null,
   "metadata": {
    "_cell_guid": "b1076dfc-b9ad-4769-8c92-a6c4dae69d19",
    "_uuid": "8f2839f25d086af736a60e9eeb907d3b93b6e0e5"
   },
   "outputs": [],
   "source": [
    "# Q1"
   ]
  },
  {
   "cell_type": "code",
   "execution_count": 33,
   "metadata": {
    "execution": {
     "iopub.execute_input": "2023-06-09T12:16:08.045939Z",
     "iopub.status.busy": "2023-06-09T12:16:08.045556Z",
     "iopub.status.idle": "2023-06-09T12:16:08.052522Z",
     "shell.execute_reply": "2023-06-09T12:16:08.051580Z",
     "shell.execute_reply.started": "2023-06-09T12:16:08.045914Z"
    }
   },
   "outputs": [
    {
     "name": "stdout",
     "output_type": "stream",
     "text": [
      "True\n"
     ]
    }
   ],
   "source": [
    "def pow_of_two(num):\n",
    "    n=num\n",
    "    if n==1:\n",
    "        return True\n",
    "    elif (n<=0 or n%2!=0 ):\n",
    "        return False\n",
    "    else:\n",
    "        return pow_of_two(n/2)\n",
    "print(pow_of_two(16))"
   ]
  },
  {
   "cell_type": "code",
   "execution_count": 155,
   "metadata": {
    "execution": {
     "iopub.execute_input": "2023-06-09T13:46:59.421495Z",
     "iopub.status.busy": "2023-06-09T13:46:59.421126Z",
     "iopub.status.idle": "2023-06-09T13:46:59.427267Z",
     "shell.execute_reply": "2023-06-09T13:46:59.425709Z",
     "shell.execute_reply.started": "2023-06-09T13:46:59.421467Z"
    }
   },
   "outputs": [],
   "source": [
    "# Q2"
   ]
  },
  {
   "cell_type": "code",
   "execution_count": 38,
   "metadata": {
    "execution": {
     "iopub.execute_input": "2023-06-09T12:18:06.134114Z",
     "iopub.status.busy": "2023-06-09T12:18:06.133751Z",
     "iopub.status.idle": "2023-06-09T12:18:06.140007Z",
     "shell.execute_reply": "2023-06-09T12:18:06.138855Z",
     "shell.execute_reply.started": "2023-06-09T12:18:06.134088Z"
    }
   },
   "outputs": [
    {
     "name": "stdout",
     "output_type": "stream",
     "text": [
      "28\n"
     ]
    }
   ],
   "source": [
    "def sum_of_first_n(n):\n",
    "    if n==1:\n",
    "        return 1\n",
    "    return n+sum_of_first_n(n-1)\n",
    "print(sum_of_first_n(7))"
   ]
  },
  {
   "cell_type": "code",
   "execution_count": 156,
   "metadata": {
    "execution": {
     "iopub.execute_input": "2023-06-09T13:47:04.697311Z",
     "iopub.status.busy": "2023-06-09T13:47:04.696955Z",
     "iopub.status.idle": "2023-06-09T13:47:04.702717Z",
     "shell.execute_reply": "2023-06-09T13:47:04.701082Z",
     "shell.execute_reply.started": "2023-06-09T13:47:04.697286Z"
    }
   },
   "outputs": [],
   "source": [
    "# Q3"
   ]
  },
  {
   "cell_type": "code",
   "execution_count": 40,
   "metadata": {
    "execution": {
     "iopub.execute_input": "2023-06-09T12:19:27.964842Z",
     "iopub.status.busy": "2023-06-09T12:19:27.964496Z",
     "iopub.status.idle": "2023-06-09T12:19:27.970624Z",
     "shell.execute_reply": "2023-06-09T12:19:27.969489Z",
     "shell.execute_reply.started": "2023-06-09T12:19:27.964817Z"
    }
   },
   "outputs": [
    {
     "name": "stdout",
     "output_type": "stream",
     "text": [
      "120\n"
     ]
    }
   ],
   "source": [
    "def fact(n):\n",
    "    if n==1:\n",
    "        return 1\n",
    "    return n*fact(n-1)\n",
    "print(fact(5))"
   ]
  },
  {
   "cell_type": "code",
   "execution_count": 41,
   "metadata": {
    "execution": {
     "iopub.execute_input": "2023-06-09T12:19:35.940341Z",
     "iopub.status.busy": "2023-06-09T12:19:35.939989Z",
     "iopub.status.idle": "2023-06-09T12:19:35.944508Z",
     "shell.execute_reply": "2023-06-09T12:19:35.943543Z",
     "shell.execute_reply.started": "2023-06-09T12:19:35.940303Z"
    }
   },
   "outputs": [],
   "source": [
    "# Q4"
   ]
  },
  {
   "cell_type": "code",
   "execution_count": 45,
   "metadata": {
    "execution": {
     "iopub.execute_input": "2023-06-09T12:28:00.075239Z",
     "iopub.status.busy": "2023-06-09T12:28:00.074809Z",
     "iopub.status.idle": "2023-06-09T12:28:00.081546Z",
     "shell.execute_reply": "2023-06-09T12:28:00.080603Z",
     "shell.execute_reply.started": "2023-06-09T12:28:00.075163Z"
    }
   },
   "outputs": [
    {
     "name": "stdout",
     "output_type": "stream",
     "text": [
      "32\n"
     ]
    }
   ],
   "source": [
    "def exponent(n,p):\n",
    "    if p==1:\n",
    "        return n\n",
    "    \n",
    "    return n*(exponent(n,p-1))\n",
    "print(exponent(2,5))"
   ]
  },
  {
   "cell_type": "code",
   "execution_count": 46,
   "metadata": {
    "execution": {
     "iopub.execute_input": "2023-06-09T12:28:05.240871Z",
     "iopub.status.busy": "2023-06-09T12:28:05.240439Z",
     "iopub.status.idle": "2023-06-09T12:28:05.246196Z",
     "shell.execute_reply": "2023-06-09T12:28:05.244185Z",
     "shell.execute_reply.started": "2023-06-09T12:28:05.240839Z"
    }
   },
   "outputs": [],
   "source": [
    "# Q5"
   ]
  },
  {
   "cell_type": "code",
   "execution_count": 126,
   "metadata": {
    "execution": {
     "iopub.execute_input": "2023-06-09T13:32:02.207435Z",
     "iopub.status.busy": "2023-06-09T13:32:02.207093Z",
     "iopub.status.idle": "2023-06-09T13:32:02.215597Z",
     "shell.execute_reply": "2023-06-09T13:32:02.214293Z",
     "shell.execute_reply.started": "2023-06-09T13:32:02.207409Z"
    }
   },
   "outputs": [
    {
     "name": "stdout",
     "output_type": "stream",
     "text": [
      "45\n"
     ]
    }
   ],
   "source": [
    "c=0\n",
    "temp=0\n",
    "def max(n):\n",
    "    global c\n",
    "    global temp\n",
    "    if len(n)!=0 and n[0]>temp:\n",
    "        temp=n[0]\n",
    "    if len(n)==0:\n",
    "        return temp\n",
    "    c=c+1\n",
    "    return max(n[1:len(n)])\n",
    "print(max([1,4,45,6,10,2,-8]))"
   ]
  },
  {
   "cell_type": "code",
   "execution_count": 117,
   "metadata": {
    "execution": {
     "iopub.execute_input": "2023-06-09T13:22:57.175329Z",
     "iopub.status.busy": "2023-06-09T13:22:57.174947Z",
     "iopub.status.idle": "2023-06-09T13:22:57.180162Z",
     "shell.execute_reply": "2023-06-09T13:22:57.179240Z",
     "shell.execute_reply.started": "2023-06-09T13:22:57.175298Z"
    }
   },
   "outputs": [],
   "source": [
    "# Q6"
   ]
  },
  {
   "cell_type": "code",
   "execution_count": 120,
   "metadata": {
    "execution": {
     "iopub.execute_input": "2023-06-09T13:27:47.995487Z",
     "iopub.status.busy": "2023-06-09T13:27:47.995133Z",
     "iopub.status.idle": "2023-06-09T13:27:48.000403Z",
     "shell.execute_reply": "2023-06-09T13:27:47.999598Z",
     "shell.execute_reply.started": "2023-06-09T13:27:47.995461Z"
    }
   },
   "outputs": [
    {
     "name": "stdout",
     "output_type": "stream",
     "text": [
      "23\n"
     ]
    }
   ],
   "source": [
    "def ap(a,d,N):\n",
    "    if N==1:\n",
    "        return a\n",
    "    return ap((a+d),d,N-1)\n",
    "print(ap(5,2,10))"
   ]
  },
  {
   "cell_type": "code",
   "execution_count": 154,
   "metadata": {
    "execution": {
     "iopub.execute_input": "2023-06-09T13:45:30.774519Z",
     "iopub.status.busy": "2023-06-09T13:45:30.774159Z",
     "iopub.status.idle": "2023-06-09T13:45:30.779457Z",
     "shell.execute_reply": "2023-06-09T13:45:30.777856Z",
     "shell.execute_reply.started": "2023-06-09T13:45:30.774493Z"
    }
   },
   "outputs": [],
   "source": [
    "# Q7"
   ]
  },
  {
   "cell_type": "code",
   "execution_count": null,
   "metadata": {},
   "outputs": [],
   "source": []
  },
  {
   "cell_type": "code",
   "execution_count": 122,
   "metadata": {
    "execution": {
     "iopub.execute_input": "2023-06-09T13:27:58.782126Z",
     "iopub.status.busy": "2023-06-09T13:27:58.781731Z",
     "iopub.status.idle": "2023-06-09T13:27:58.787883Z",
     "shell.execute_reply": "2023-06-09T13:27:58.785928Z",
     "shell.execute_reply.started": "2023-06-09T13:27:58.782099Z"
    }
   },
   "outputs": [],
   "source": [
    "# Q8"
   ]
  },
  {
   "cell_type": "code",
   "execution_count": 2,
   "metadata": {},
   "outputs": [
    {
     "name": "stdout",
     "output_type": "stream",
     "text": [
      "6\n"
     ]
    }
   ],
   "source": [
    "def prod(n):\n",
    "    if len(n)==0:\n",
    "        return 1\n",
    "    return n[0]*(prod(n[1:len(n)]))\n",
    "print(prod([1,2,3]))"
   ]
  },
  {
   "cell_type": "code",
   "execution_count": null,
   "metadata": {},
   "outputs": [],
   "source": []
  }
 ],
 "metadata": {
  "kernelspec": {
   "display_name": "Python 3 (ipykernel)",
   "language": "python",
   "name": "python3"
  },
  "language_info": {
   "codemirror_mode": {
    "name": "ipython",
    "version": 3
   },
   "file_extension": ".py",
   "mimetype": "text/x-python",
   "name": "python",
   "nbconvert_exporter": "python",
   "pygments_lexer": "ipython3",
   "version": "3.9.12"
  }
 },
 "nbformat": 4,
 "nbformat_minor": 4
}
