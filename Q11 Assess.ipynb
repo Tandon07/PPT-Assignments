{
 "cells": [
  {
   "cell_type": "code",
   "execution_count": 1,
   "id": "33bc9757",
   "metadata": {},
   "outputs": [],
   "source": [
    "import scipy.stats as stats\n"
   ]
  },
  {
   "cell_type": "code",
   "execution_count": 2,
   "id": "4a0f1fad",
   "metadata": {},
   "outputs": [],
   "source": [
    "population_mean = 300\n",
    "sample_mean = 290\n",
    "sample_std_dev = 50\n",
    "sample_size = 15\n"
   ]
  },
  {
   "cell_type": "code",
   "execution_count": 3,
   "id": "707f2a07",
   "metadata": {},
   "outputs": [],
   "source": [
    "# standard error\n",
    "SE = sample_std_dev / (sample_size ** 0.5)\n"
   ]
  },
  {
   "cell_type": "code",
   "execution_count": 4,
   "id": "b639de41",
   "metadata": {},
   "outputs": [],
   "source": [
    "#  Z-score\n",
    "Z = (sample_mean - population_mean) / SE\n"
   ]
  },
  {
   "cell_type": "code",
   "execution_count": 5,
   "id": "963cae80",
   "metadata": {},
   "outputs": [],
   "source": [
    "probability = stats.norm.cdf(Z)\n"
   ]
  },
  {
   "cell_type": "code",
   "execution_count": 6,
   "id": "dc1d521f",
   "metadata": {},
   "outputs": [
    {
     "name": "stdout",
     "output_type": "stream",
     "text": [
      "Probability that 15 randomly selected bulbs do not have an average life of more than 290 days: 0.7807109869595001\n"
     ]
    }
   ],
   "source": [
    "probability_not_more_than_290 = 1 - probability\n",
    "\n",
    "print(\"Probability that 15 randomly selected bulbs do not have an average life of more than 290 days:\", probability_not_more_than_290)\n"
   ]
  },
  {
   "cell_type": "code",
   "execution_count": null,
   "id": "a05e609a",
   "metadata": {},
   "outputs": [],
   "source": []
  },
  {
   "cell_type": "code",
   "execution_count": null,
   "id": "58677a8d",
   "metadata": {},
   "outputs": [],
   "source": []
  }
 ],
 "metadata": {
  "kernelspec": {
   "display_name": "Python 3 (ipykernel)",
   "language": "python",
   "name": "python3"
  },
  "language_info": {
   "codemirror_mode": {
    "name": "ipython",
    "version": 3
   },
   "file_extension": ".py",
   "mimetype": "text/x-python",
   "name": "python",
   "nbconvert_exporter": "python",
   "pygments_lexer": "ipython3",
   "version": "3.9.12"
  }
 },
 "nbformat": 4,
 "nbformat_minor": 5
}
