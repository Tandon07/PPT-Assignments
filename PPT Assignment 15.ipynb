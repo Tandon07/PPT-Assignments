{
 "cells": [
  {
   "cell_type": "code",
   "execution_count": 9,
   "id": "2689db4e",
   "metadata": {},
   "outputs": [],
   "source": [
    "# Q1"
   ]
  },
  {
   "cell_type": "code",
   "execution_count": 10,
   "id": "a90bc9ac",
   "metadata": {},
   "outputs": [
    {
     "name": "stdout",
     "output_type": "stream",
     "text": [
      "[1, 3, 2, 4]\n",
      "[]\n",
      "[-1]\n",
      "[-1, 4]\n",
      "[-1, 4, 4]\n",
      "[3, 4, 4, -1]\n"
     ]
    }
   ],
   "source": [
    "def next_greater_element(arr):\n",
    "    stack = []\n",
    "    result = []\n",
    "\n",
    "    print(arr)\n",
    "    for i in range(len(arr) - 1, -1, -1):\n",
    "        \n",
    "        print(result)\n",
    "        while stack and stack[-1] <= arr[i]:\n",
    "            \n",
    "            stack.pop()\n",
    "\n",
    "\n",
    "        if not stack:\n",
    "            result.append(-1)\n",
    "        else:\n",
    "            result.append(stack[-1])\n",
    "\n",
    "        stack.append(arr[i])\n",
    "\n",
    "\n",
    "    result.reverse()\n",
    "\n",
    "    return result\n",
    "\n",
    "\n",
    "print(next_greater_element([1 ,3, 2, 4]))"
   ]
  },
  {
   "cell_type": "code",
   "execution_count": null,
   "id": "554d12bf",
   "metadata": {},
   "outputs": [],
   "source": []
  },
  {
   "cell_type": "markdown",
   "id": "9b717f69",
   "metadata": {},
   "source": [
    "## Q2"
   ]
  },
  {
   "cell_type": "code",
   "execution_count": null,
   "id": "ab70568e",
   "metadata": {},
   "outputs": [],
   "source": [
    "Input: n = 3\n",
    "a = {1, 6, 2}\n",
    "Output: -1 1 1\n",
    "Explaination: There is no number at the\n",
    "left of 1. Smaller number than 6 and 2 is 1.\n",
    "\n",
    "\n",
    "\n",
    "Input: n = 6\n",
    "a = {1, 5, 0, 3, 4, 5}\n",
    "Output: -1 1 -1 0 3 4\n",
    "Explaination: Upto 3 it is easy to see\n",
    "the smaller numbers. But for 4 the smaller\n",
    "numbers are 1, 0 and 3. But among them 3\n",
    "is closest. Similary for 5 it is 4."
   ]
  },
  {
   "cell_type": "code",
   "execution_count": 16,
   "id": "2dec1e93",
   "metadata": {},
   "outputs": [
    {
     "name": "stdout",
     "output_type": "stream",
     "text": [
      "[-1, 1, 1]\n"
     ]
    }
   ],
   "source": [
    "def nearest_smallest(nums):\n",
    "\n",
    "    stack = []\n",
    "    result = []\n",
    "\n",
    "    for num in nums:\n",
    "\n",
    "        while stack and stack[-1] >= num:\n",
    "            stack.pop()\n",
    "\n",
    "        if not stack:\n",
    "            result.append(-1)\n",
    "        else:\n",
    "            result.append(stack[-1])\n",
    "\n",
    "        stack.append(num)\n",
    "\n",
    "    return result\n",
    "\n",
    "\n",
    "\n",
    "print(nearest_smallest([1, 6, 2])) \n",
    "\n",
    "\n",
    "            "
   ]
  },
  {
   "cell_type": "markdown",
   "id": "fd5bad68",
   "metadata": {},
   "source": [
    "## Q3"
   ]
  },
  {
   "cell_type": "code",
   "execution_count": 19,
   "id": "8496fae9",
   "metadata": {},
   "outputs": [],
   "source": [
    "from collections import deque\n",
    "\n",
    "class Stack:\n",
    "    def __init__(self):\n",
    "        self.q1 = deque()\n",
    "        self.q2 = deque()\n",
    "\n",
    "    def push(self, element):\n",
    "        self.q1.append(element)\n",
    "\n",
    "    def pop(self):\n",
    "        if not self.q1:\n",
    "            return None\n",
    "\n",
    "        while len(self.q1) > 1:\n",
    "            self.q2.append(self.q1.popleft())\n",
    "\n",
    "        popped_element = self.q1.popleft()\n",
    "\n",
    "        self.q1, self.q2 = self.q2, self.q1\n",
    "\n",
    "        return popped_element\n",
    "\n",
    "    def top(self):\n",
    "        if not self.q1:\n",
    "            return None\n",
    "\n",
    "        while len(self.q1) > 1:\n",
    "            self.q2.append(self.q1.popleft())\n",
    "\n",
    "        top_element = self.q1[0]\n",
    "\n",
    "        self.q2.append(self.q1.popleft())\n",
    "\n",
    "        self.q1, self.q2 = self.q2, self.q1\n",
    "\n",
    "        return top_element\n",
    "\n",
    "    def empty(self):\n",
    "        return not self.q1 and not self.q2\n"
   ]
  },
  {
   "cell_type": "code",
   "execution_count": 20,
   "id": "e7e49182",
   "metadata": {},
   "outputs": [],
   "source": [
    "## Q4 You are given a stack St. You have to reverse the stack using recursion."
   ]
  },
  {
   "cell_type": "code",
   "execution_count": null,
   "id": "3f6bbbc6",
   "metadata": {},
   "outputs": [],
   "source": [
    "def reverse(stack):\n",
    "    \n",
    "    for i in range(stack.size())\n",
    "        top=stack.pop()\n",
    "        "
   ]
  },
  {
   "cell_type": "code",
   "execution_count": 42,
   "id": "9e242788",
   "metadata": {},
   "outputs": [
    {
     "name": "stdout",
     "output_type": "stream",
     "text": [
      "[3, 2, 1]\n"
     ]
    }
   ],
   "source": [
    "class Stack:\n",
    "    def __init__(self):\n",
    "        self.items = []\n",
    "\n",
    "    def push(self, item):\n",
    "        self.items.append(item)\n",
    "\n",
    "    def pop(self):\n",
    "        if not self.is_empty():\n",
    "            return self.items.pop()\n",
    "        \n",
    "    def peek(self):\n",
    "        if not self.is_empty():\n",
    "            return self.items[-1]\n",
    "\n",
    "    def is_empty(self):\n",
    "        return len(self.items) == 0\n",
    "\n",
    "    def size(self):\n",
    "        return len(self.items)\n",
    "\n",
    "\n",
    "def reverse_stack(stack):\n",
    "    if stack.is_empty() or stack.size() == 1:\n",
    "        return\n",
    "\n",
    "    top_element = stack.pop()\n",
    "    reverse_stack(stack)\n",
    "\n",
    "    insert_at_bottom(stack, top_element)\n",
    "\n",
    "\n",
    "def insert_at_bottom(stack, item):\n",
    "    if stack.is_empty():\n",
    "        stack.push(item)\n",
    "    else:\n",
    "        top_element = stack.pop()\n",
    "        insert_at_bottom(stack, item)\n",
    "        stack.push(top_element)\n",
    "\n",
    "\n",
    "\n",
    "stack = Stack()\n",
    "stack.push(1)\n",
    "stack.push(2)\n",
    "stack.push(3)\n",
    "\n",
    "\n",
    "\n",
    "reverse_stack(stack)\n",
    "\n",
    "print(stack.items)\n"
   ]
  },
  {
   "cell_type": "code",
   "execution_count": 44,
   "id": "7d01d762",
   "metadata": {},
   "outputs": [],
   "source": [
    "## Q5"
   ]
  },
  {
   "cell_type": "code",
   "execution_count": 45,
   "id": "d0ee0ced",
   "metadata": {},
   "outputs": [],
   "source": [
    "def reverse_string(string):\n",
    "    stack = Stack()\n",
    "\n",
    "    for char in string:\n",
    "        stack.push(char)\n",
    "\n",
    "    reversed_string = \"\"\n",
    "\n",
    "\n",
    "    while not stack.is_empty():\n",
    "        reversed_string += stack.pop()\n",
    "\n",
    "    return reversed_string"
   ]
  },
  {
   "cell_type": "code",
   "execution_count": 46,
   "id": "a47ad116",
   "metadata": {},
   "outputs": [],
   "source": [
    "## Q6"
   ]
  },
  {
   "cell_type": "code",
   "execution_count": 48,
   "id": "20e90482",
   "metadata": {},
   "outputs": [
    {
     "name": "stdout",
     "output_type": "stream",
     "text": [
      "-4\n"
     ]
    }
   ],
   "source": [
    "\n",
    "\n",
    "class Stack:\n",
    "    def __init__(self):\n",
    "        self.items = []\n",
    "\n",
    "    def push(self, item):\n",
    "        self.items.append(item)\n",
    "\n",
    "    def pop(self):\n",
    "        if not self.is_empty():\n",
    "            return self.items.pop()\n",
    "\n",
    "    def is_empty(self):\n",
    "        return len(self.items) == 0\n",
    "\n",
    "    def size(self):\n",
    "        return len(self.items)\n",
    "\n",
    "\n",
    "def evaluate_postfix_expression(expression):\n",
    "    stack = Stack()\n",
    "\n",
    "    for char in expression:\n",
    "        if char.isdigit():\n",
    "            stack.push(int(char))\n",
    "        else:\n",
    "            operand2 = stack.pop() #1\n",
    "            operand1 = stack.pop() #3\n",
    "            \n",
    "            if char == '+':\n",
    "                result = operand1 + operand2\n",
    "            elif char == '-':\n",
    "                result = operand1 - operand2\n",
    "            elif char == '*':\n",
    "                result = operand1 * operand2\n",
    "            elif char == '/':\n",
    "                result = operand1 / operand2\n",
    "            \n",
    "            stack.push(result) \n",
    "\n",
    "    return stack.pop()\n",
    "\n",
    "\n",
    "expression = \"231*+9-\"\n",
    "result = evaluate_postfix_expression(expression)\n",
    "print(result) \n"
   ]
  },
  {
   "cell_type": "markdown",
   "id": "22c1b0f8",
   "metadata": {},
   "source": [
    "# Q8"
   ]
  },
  {
   "cell_type": "code",
   "execution_count": 64,
   "id": "94a9742a",
   "metadata": {},
   "outputs": [
    {
     "name": "stdout",
     "output_type": "stream",
     "text": [
      "6\n"
     ]
    }
   ],
   "source": [
    "def water_storage(height):\n",
    "    left=[]\n",
    "    right=[]\n",
    "    l=len(height)-1\n",
    "\n",
    "    for i in range(len(height)):\n",
    "        \n",
    "        if not left:\n",
    "            left.append(i)\n",
    "        elif left[i-1]<=height[i]:\n",
    "            left.append(height[i])\n",
    "        else:\n",
    "            left.append(left[i-1])\n",
    "\n",
    "        if not right:\n",
    "            right.append(height[l])\n",
    "        elif right[i-1]<=height[l-i]:\n",
    "            right.append(height[l-i])\n",
    "        else:\n",
    "            right.append(right[i-1])\n",
    "    right.reverse()\n",
    "    water=0\n",
    "    for i in range(len(height)):\n",
    "        water=water+min(left[i],right[i])-height[i]\n",
    "    return water\n",
    "print(water_storage([0,1,0,2,1,0,1,3,2,1,2,1]))"
   ]
  }
 ],
 "metadata": {
  "kernelspec": {
   "display_name": "Python 3 (ipykernel)",
   "language": "python",
   "name": "python3"
  },
  "language_info": {
   "codemirror_mode": {
    "name": "ipython",
    "version": 3
   },
   "file_extension": ".py",
   "mimetype": "text/x-python",
   "name": "python",
   "nbconvert_exporter": "python",
   "pygments_lexer": "ipython3",
   "version": "3.9.12"
  }
 },
 "nbformat": 4,
 "nbformat_minor": 5
}
