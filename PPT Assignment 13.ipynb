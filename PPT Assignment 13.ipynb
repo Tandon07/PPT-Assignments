{
  "nbformat": 4,
  "nbformat_minor": 0,
  "metadata": {
    "colab": {
      "provenance": []
    },
    "kernelspec": {
      "name": "python3",
      "display_name": "Python 3"
    },
    "language_info": {
      "name": "python"
    }
  },
  "cells": [
    {
      "cell_type": "markdown",
      "source": [
        "<aside>\n",
        "💡 **Question 1**\n",
        "\n",
        "Given two linked list of the same size, the task is to create a new linked list using those linked lists. The condition is that the greater node among both linked list will be added to the new linked list.\n",
        "\n",
        "</aside>Input: list1 = 5->2->3->8\n",
        "list2 = 1->7->4->5\n",
        "Output: New list = 5->7->4->8\n",
        "\n",
        "Input:list1 = 2->8->9->3\n",
        "list2 = 5->3->6->4\n",
        "Output: New list = 5->8->9->4"
      ],
      "metadata": {
        "id": "z2M3vBgifEiO"
      }
    },
    {
      "cell_type": "code",
      "execution_count": 6,
      "metadata": {
        "colab": {
          "base_uri": "https://localhost:8080/"
        },
        "id": "EbiHwR0TeNeV",
        "outputId": "396a28cc-a928-4045-ac61-527dbe5ae224"
      },
      "outputs": [
        {
          "output_type": "stream",
          "name": "stdout",
          "text": [
            "5 7 4 8 "
          ]
        }
      ],
      "source": [
        "class Node:\n",
        "  def __init__(self, value):\n",
        "    self.next = None\n",
        "    self.value = value\n",
        "\n",
        "def add_max(l1,l2):\n",
        "  head1=l1\n",
        "  head2=l2\n",
        "\n",
        "  while l1 and l2:\n",
        "    l1.value=(max(l1.value,l2.value))\n",
        "    l1 = l1.next\n",
        "    l2 = l2.next\n",
        "  return head1\n",
        "\n",
        "\n",
        "\n",
        "head1 = Node(5)\n",
        "head1.next = Node(2)\n",
        "head1.next.next = Node(3)\n",
        "head1.next.next.next = Node(8)\n",
        "\n",
        "head2=Node(1)\n",
        "head2.next = Node(7)\n",
        "head2.next.next = Node(4)\n",
        "head2.next.next.next = Node(5)\n",
        "\n",
        "result = add_max(head1, head2)\n",
        "while result:\n",
        "    print(result.value, end=\" \")\n",
        "    result = result.next"
      ]
    },
    {
      "cell_type": "markdown",
      "source": [
        "<aside>\n",
        "💡 **Question 2**\n",
        "\n",
        "Write a function that takes a list sorted in non-decreasing order and deletes any duplicate nodes from the list. The list should only be traversed once.\n",
        "\n",
        "For example if the linked list is 11->11->11->21->43->43->60 then removeDuplicates() should convert the list to 11->21->43->60.\n",
        "\n",
        "</aside>Input:\n",
        "LinkedList:\n",
        "11->11->11->21->43->43->60\n",
        "Output:\n",
        "11->21->43->60\n",
        "Input:\n",
        "LinkedList:\n",
        "11->11->11->21->43->43->60\n",
        "Output:\n",
        "11->21->43->60"
      ],
      "metadata": {
        "id": "oYr2Pl0rwrqj"
      }
    },
    {
      "cell_type": "code",
      "source": [
        "class Node:\n",
        "  def __init__(self, value):\n",
        "    self.next = None\n",
        "    self.value = value\n",
        "\n",
        "def del_duplicates(head):\n",
        "    current = head\n",
        "\n",
        "    while current and current.next:\n",
        "        if current.value == current.next.value:\n",
        "            current.next = current.next.next\n",
        "        else:\n",
        "            current = current.next\n",
        "\n",
        "    return head\n",
        "\n",
        "head2=Node(11)\n",
        "head2.next = Node(11)\n",
        "head2.next.next = Node(21)\n",
        "head2.next.next.next = Node(43)\n",
        "\n",
        "result = del_duplicates(head2)\n",
        "\n",
        "while result:\n",
        "    print(result.value, end=\" \")\n",
        "    result = result.next"
      ],
      "metadata": {
        "colab": {
          "base_uri": "https://localhost:8080/"
        },
        "id": "rG_ayDVNnpOC",
        "outputId": "0fac37c1-d62c-4add-bf2c-595b72f51c2d"
      },
      "execution_count": 17,
      "outputs": [
        {
          "output_type": "stream",
          "name": "stdout",
          "text": [
            "11 21 43 "
          ]
        }
      ]
    },
    {
      "cell_type": "code",
      "source": [
        "# Q3"
      ],
      "metadata": {
        "id": "t07Eb8Y5yYSH"
      },
      "execution_count": 18,
      "outputs": []
    },
    {
      "cell_type": "markdown",
      "source": [
        "<aside>\n",
        "💡 **Question 3**\n",
        "\n",
        "Given a linked list of size **N**. The task is to reverse every **k** nodes (where k is an input to the function) in the linked list. If the number of nodes is not a multiple of *k* then left-out nodes, in the end, should be considered as a group and must be reversed (See Example 2 for clarification).\n",
        "\n",
        "</aside>\n",
        "\n",
        "Input:\n",
        "LinkedList: 1->2->2->4->5->6->7->8\n",
        "K = 4\n",
        "Output:4 2 2 1 8 7 6 5\n",
        "Explanation:\n",
        "The first 4 elements 1,2,2,4 are reversed first\n",
        "and then the next 4 elements 5,6,7,8. Hence, the\n",
        "resultant linked list is 4->2->2->1->8->7->6->5.\n",
        "\n",
        "\n",
        "\n",
        "Input:\n",
        "LinkedList: 1->2->3->4->5\n",
        "K = 3\n",
        "Output:3 2 1 5 4\n",
        "Explanation:\n",
        "The first 3 elements are 1,2,3 are reversed\n",
        "first and then elements 4,5 are reversed.Hence,\n",
        "the resultant linked list is 3->2->1->5->4."
      ],
      "metadata": {
        "id": "Xowwtu_eNPuW"
      }
    },
    {
      "cell_type": "code",
      "source": [
        "class Node:\n",
        "  def __init__(self, value):\n",
        "    self.next = None\n",
        "    self.value = value\n",
        "\n",
        "def reverse_k_nodes(head, k):\n",
        "    current = head\n",
        "    next_node = None\n",
        "    prev = None\n",
        "    count = 0\n",
        "\n",
        "    # Reverse k nodes\n",
        "    while current and count < k:\n",
        "        next_node = current.next\n",
        "        current.next = prev\n",
        "        prev = current\n",
        "        current = next_node\n",
        "        count += 1\n",
        "\n",
        "    # Recurse for the remaining linked list\n",
        "    if next_node:\n",
        "        head.next = reverseKNodes(next_node, k)\n",
        "\n",
        "    return prev\n",
        "\n",
        "\n",
        "head2=Node(1)\n",
        "head2.next = Node(2)\n",
        "head2.next.next = Node(2)\n",
        "head2.next.next.next = Node(4)\n",
        "head2.next.next.next.next = Node(5)\n",
        "head2.next.next.next.next.next = Node(6)\n",
        "head2.next.next.next.next.next.next = Node(7)\n",
        "head2.next.next.next.next.next.next.next = Node(8)\n",
        "result = reverse_k_nodes(head2,4)\n",
        "\n",
        "while result:\n",
        "    print(result.value, end=\" \")\n",
        "    result = result.next\n",
        "\n",
        "\n",
        "\n"
      ],
      "metadata": {
        "colab": {
          "base_uri": "https://localhost:8080/"
        },
        "id": "R3uQW5EENKdu",
        "outputId": "f389ec2b-4865-4c07-f830-bf3a684845be"
      },
      "execution_count": 32,
      "outputs": [
        {
          "output_type": "stream",
          "name": "stdout",
          "text": [
            "4 2 2 1 8 7 6 5 "
          ]
        }
      ]
    },
    {
      "cell_type": "code",
      "source": [
        "# Q4"
      ],
      "metadata": {
        "id": "0ZzCMzZkOPUg"
      },
      "execution_count": 1,
      "outputs": []
    },
    {
      "cell_type": "code",
      "source": [
        "class Node:\n",
        "    def __init__(self,value):\n",
        "        self.value=value\n",
        "        self.next=None\n",
        "\n",
        "def reverse_alternate_k(head,k):\n",
        "\n",
        "    curr=head\n",
        "    prev=None\n",
        "    c=0\n",
        "    while c<k and curr:\n",
        "        temp=curr.next\n",
        "        curr.next=prev\n",
        "        prev=curr\n",
        "        curr=temp\n",
        "        c=c+1\n",
        "    head.next=curr\n",
        "\n",
        "    c=0\n",
        "    while c<k-1 and curr:\n",
        "        curr=curr.next\n",
        "        c=c+1\n",
        "\n",
        "    if curr:\n",
        "        curr.next=reverse_alternate_k(curr.next,k)\n",
        "\n",
        "    return prev\n",
        "\n",
        "head=Node(1)\n",
        "head.next=Node(2)\n",
        "head.next.next=Node(3)\n",
        "head.next.next.next=Node(4)\n",
        "head.next.next.next.next=Node(5)\n",
        "head.next.next.next.next.next=Node(6)\n",
        "head.next.next.next.next.next.next=Node(7)\n",
        "head.next.next.next.next.next.next.next=Node(8)\n",
        "head.next.next.next.next.next.next.next.next=Node(9)\n",
        "head.next.next.next.next.next.next.next.next.next=Node(10)\n",
        "k=3\n",
        "result=reverse_alternate_k(head,k)\n",
        "\n",
        "\n",
        "while result:\n",
        "    print(result.value)\n",
        "    result=result.next"
      ],
      "metadata": {
        "colab": {
          "base_uri": "https://localhost:8080/"
        },
        "id": "VY2_x2UHPDbT",
        "outputId": "c1ef477c-a220-4e72-dcb0-4a345ca60d09"
      },
      "execution_count": 2,
      "outputs": [
        {
          "output_type": "stream",
          "name": "stdout",
          "text": [
            "3\n",
            "2\n",
            "1\n",
            "4\n",
            "5\n",
            "6\n",
            "9\n",
            "8\n",
            "7\n",
            "10\n"
          ]
        }
      ]
    },
    {
      "cell_type": "code",
      "source": [
        "# Q5"
      ],
      "metadata": {
        "id": "UNfL_Bg3PI2B"
      },
      "execution_count": 3,
      "outputs": []
    },
    {
      "cell_type": "code",
      "source": [
        "class Node:\n",
        "    def __init__(self,value):\n",
        "        self.value=value\n",
        "        self.next=None\n",
        "def del_last_occurance(head,k):\n",
        "    curr=head\n",
        "    prev=None\n",
        "    occur=None\n",
        "    while curr.next:\n",
        "        if curr.next.value==k:\n",
        "            occur=curr.next\n",
        "            prev=curr\n",
        "        curr=curr.next\n",
        "\n",
        "    if occur:\n",
        "        prev.next=occur.next\n",
        "\n",
        "    return head\n",
        "head=Node(1)\n",
        "head.next=Node(2)\n",
        "head.next.next=Node(3)\n",
        "head.next.next.next=Node(4)\n",
        "head.next.next.next.next=Node(2)\n",
        "head.next.next.next.next.next=Node(6)\n",
        "\n",
        "result=del_last_occurance(head,2)\n",
        "\n",
        "\n",
        "while result:\n",
        "    print(result.value)\n",
        "    result=result.next"
      ],
      "metadata": {
        "colab": {
          "base_uri": "https://localhost:8080/"
        },
        "id": "MmPpvjx_PR3F",
        "outputId": "d1b582a7-415c-49aa-b094-8047725cc845"
      },
      "execution_count": 4,
      "outputs": [
        {
          "output_type": "stream",
          "name": "stdout",
          "text": [
            "1\n",
            "2\n",
            "3\n",
            "4\n",
            "6\n"
          ]
        }
      ]
    },
    {
      "cell_type": "code",
      "source": [
        "# Q7"
      ],
      "metadata": {
        "id": "7cLFot2APSro"
      },
      "execution_count": 5,
      "outputs": []
    },
    {
      "cell_type": "code",
      "source": [
        "class Node:\n",
        "    def __init__(self, value):\n",
        "        self.value = value\n",
        "        self.next = None\n",
        "        self.previous = None\n",
        "\n",
        "\n",
        "def reverse_doubly_linked_list(head):\n",
        "    if not head or not head.next:\n",
        "        return head\n",
        "\n",
        "    current = head\n",
        "    previous = None\n",
        "\n",
        "    while current:\n",
        "        next_node = current.next\n",
        "        current.next = previous\n",
        "        current.previous = next_node\n",
        "        previous = current\n",
        "        current = next_node\n",
        "\n",
        "    head = previous\n",
        "    return head\n",
        "\n",
        "\n",
        "\n",
        "\n",
        "\n",
        "head = Node(10)\n",
        "node2 = Node(8)\n",
        "node3 = Node(4)\n",
        "node4 = Node(2)\n",
        "\n",
        "head.next = node2\n",
        "node2.previous = head\n",
        "node2.next = node3\n",
        "node3.previous = node2\n",
        "node3.next = node4\n",
        "node4.previous = node3\n",
        "\n",
        "reversed_head = reverse_doubly_linked_list(head)\n",
        "\n",
        "\n",
        "result = reversed_head\n",
        "while result:\n",
        "    print(result.value, end=' ')\n",
        "    result = result.next"
      ],
      "metadata": {
        "colab": {
          "base_uri": "https://localhost:8080/"
        },
        "id": "dpvBsCKIQViZ",
        "outputId": "26e3ca12-25bf-4920-b351-bbcdc5322cac"
      },
      "execution_count": 6,
      "outputs": [
        {
          "output_type": "stream",
          "name": "stdout",
          "text": [
            "2 4 8 10 "
          ]
        }
      ]
    },
    {
      "cell_type": "code",
      "source": [
        "# Q8"
      ],
      "metadata": {
        "id": "CbfsvcX_ZJZn"
      },
      "execution_count": 7,
      "outputs": []
    },
    {
      "cell_type": "code",
      "source": [
        "class Node:\n",
        "    def __init__(self, value):\n",
        "        self.value = value\n",
        "        self.next = None\n",
        "        self.previous = None\n",
        "\n",
        "\n",
        "def del_from_pos(head,k):\n",
        "  curr=head\n",
        "  prev=None\n",
        "  for _ in range(k-1):\n",
        "    curr=curr.next\n",
        "\n",
        "\n",
        "  prev=curr.previous\n",
        "  next_node=curr.next\n",
        "\n",
        "\n",
        "  prev.next=next_node\n",
        "  next_node.previous=prev\n",
        "\n",
        "  return head\n",
        "\n",
        "\n",
        "\n",
        "head = Node(10)\n",
        "node2 = Node(8)\n",
        "node3 = Node(4)\n",
        "node4 = Node(2)\n",
        "\n",
        "head.next = node2\n",
        "node2.previous = head\n",
        "node2.next = node3\n",
        "node3.previous = node2\n",
        "node3.next = node4\n",
        "node4.previous = node3\n",
        "\n",
        "\n",
        "result = del_from_pos(head,3)\n",
        "while result:\n",
        "    print(result.value, end=' ')\n",
        "    result = result.next"
      ],
      "metadata": {
        "colab": {
          "base_uri": "https://localhost:8080/"
        },
        "id": "YPV_9Xn6Zn1X",
        "outputId": "193a9188-d3b3-4315-9443-ed09180686f9"
      },
      "execution_count": 10,
      "outputs": [
        {
          "output_type": "stream",
          "name": "stdout",
          "text": [
            "10 8 2 "
          ]
        }
      ]
    },
    {
      "cell_type": "code",
      "source": [],
      "metadata": {
        "id": "cDi-S8lzcBE8"
      },
      "execution_count": null,
      "outputs": []
    }
  ]
}