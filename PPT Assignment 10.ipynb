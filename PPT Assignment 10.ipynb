{
  "nbformat": 4,
  "nbformat_minor": 0,
  "metadata": {
    "colab": {
      "provenance": []
    },
    "kernelspec": {
      "name": "python3",
      "display_name": "Python 3"
    },
    "language_info": {
      "name": "python"
    }
  },
  "cells": [
    {
      "cell_type": "markdown",
      "source": [
        "<aside>\n",
        "💡 **Question 1**\n",
        "\n",
        "Given an integer `n`, return *`true` if it is a power of three. Otherwise, return `false`*.\n",
        "\n",
        "An integer `n` is a power of three, if there exists an integer `x` such that `n == 3x`.\n",
        "\n",
        "**Example 1:**\n",
        "\n",
        "</aside>"
      ],
      "metadata": {
        "id": "9pCNSHEhNwJ3"
      }
    },
    {
      "cell_type": "code",
      "execution_count": 18,
      "metadata": {
        "colab": {
          "base_uri": "https://localhost:8080/"
        },
        "id": "biv5Qkae8pLC",
        "outputId": "74442a96-9548-46d8-9a04-eac86b59d5f4"
      },
      "outputs": [
        {
          "output_type": "stream",
          "name": "stdout",
          "text": [
            "True\n"
          ]
        }
      ],
      "source": [
        "def pow_of_three(num):\n",
        "    n=num\n",
        "    if n==1:\n",
        "        return True\n",
        "    elif (n<=0 or n%3!=0 ):\n",
        "        return False\n",
        "    else:\n",
        "        return pow_of_three(n/3)\n",
        "print(pow_of_three(9))"
      ]
    },
    {
      "cell_type": "markdown",
      "source": [
        "<aside>\n",
        "💡 **Question 2**\n",
        "\n",
        "You have a list `arr` of all integers in the range `[1, n]` sorted in a strictly increasing order. Apply the following algorithm on `arr`:\n",
        "\n",
        "- Starting from left to right, remove the first number and every other number afterward until you reach the end of the list.\n",
        "- Repeat the previous step again, but this time from right to left, remove the rightmost number and every other number from the remaining numbers.\n",
        "- Keep repeating the steps again, alternating left to right and right to left, until a single number remains.\n",
        "\n",
        "Given the integer `n`, return *the last number that remains in* `arr`.\n",
        "\n",
        "**Example 1:**\n",
        "\n",
        "</aside>"
      ],
      "metadata": {
        "id": "EStxmeCsF7KX"
      }
    },
    {
      "cell_type": "code",
      "source": [
        "c=0\n",
        "def alt_remove(n):\n",
        "  global c\n",
        "  c=c+1\n",
        "  if len(n)==1:\n",
        "    return n\n",
        "  elif c%2==0:\n",
        "    return alt_remove(n[1:len(n):2])\n",
        "  else:\n",
        "    return alt_remove(n[len(n)-2::-2])\n",
        "print(alt_remove([1, 2,3, 4,5, 6,7, 8,9]))"
      ],
      "metadata": {
        "colab": {
          "base_uri": "https://localhost:8080/"
        },
        "id": "npw1kIYa8ygq",
        "outputId": "bc782676-027e-49cb-9b78-c0b37d33ccde"
      },
      "execution_count": 40,
      "outputs": [
        {
          "output_type": "stream",
          "name": "stdout",
          "text": [
            "[6]\n"
          ]
        }
      ]
    },
    {
      "cell_type": "markdown",
      "source": [
        "<aside>\n",
        "💡 **Question 3**\n",
        "\n",
        "****Given a set represented as a string, write a recursive code to print all subsets of it. The subsets can be printed in any order.\n",
        "\n",
        "**Example 1:**\n",
        "\n",
        "Input :  set = “abc”\n",
        "\n",
        "Output : { “”, “a”, “b”, “c”, “ab”, “ac”, “bc”, “abc”}\n",
        "\n",
        "**Example 2:**\n",
        "\n",
        "Input : set = “abcd”\n",
        "\n",
        "Output : { “”, “a” ,”ab” ,”abc” ,”abcd”, “abd” ,”ac” ,”acd”, “ad” ,”b”, “bc” ,”bcd” ,”bd” ,”c” ,”cd” ,”d” }\n",
        "\n",
        "</aside>"
      ],
      "metadata": {
        "id": "R9M-dUhgGANE"
      }
    },
    {
      "cell_type": "code",
      "source": [
        "def subsets(string):\n",
        "    if len(string) == 0:\n",
        "        return [\"\"]\n",
        "\n",
        "    first_char = string[0]\n",
        "    remaining_chars = string[1:]\n",
        "    # print(\"1\",string)\n",
        "    subsets_of_remaining = subsets(remaining_chars)\n",
        "    # print(\"2\",subsets_of_remaining)\n",
        "    # print(\"3\",string)\n",
        "    result = []\n",
        "    result.extend(subsets_of_remaining)\n",
        "    # print(result)\n",
        "    for subset in subsets_of_remaining:\n",
        "        result.append(first_char + subset)\n",
        "\n",
        "    return result\n",
        "\n",
        "print(subsets(\"abc\"))\n",
        "\n"
      ],
      "metadata": {
        "colab": {
          "base_uri": "https://localhost:8080/"
        },
        "id": "e2gFl0h2Ed1N",
        "outputId": "eb915267-04fa-4b5e-82cd-85ece7143275"
      },
      "execution_count": 49,
      "outputs": [
        {
          "output_type": "stream",
          "name": "stdout",
          "text": [
            "['', 'c', 'b', 'bc', 'a', 'ac', 'ab', 'abc']\n"
          ]
        }
      ]
    },
    {
      "cell_type": "markdown",
      "source": [
        "<aside>\n",
        "💡 **Question 4**\n",
        "\n",
        "Given a string calculate length of the string using recursion.\n",
        "\n",
        "**Examples:**Input : str = \"abcd\"\n",
        "Output :4\n",
        "\n",
        "Input : str = \"GEEKSFORGEEKS\"\n",
        "Output :13\n",
        "\n",
        "\n",
        "</aside>"
      ],
      "metadata": {
        "id": "vXRS2uDSIgeC"
      }
    },
    {
      "cell_type": "code",
      "source": [
        "c=0\n",
        "def length_str(s):\n",
        "  global c\n",
        "  c=c+1\n",
        "  if len(s)==1:\n",
        "    return c\n",
        "\n",
        "  return length_str(s[1:len(s)])\n",
        "\n",
        "print(length_str(\"GEEKSFORGEEKS\"))"
      ],
      "metadata": {
        "colab": {
          "base_uri": "https://localhost:8080/"
        },
        "id": "CXXZQKFVHrTC",
        "outputId": "693df698-9594-4d1a-be02-c0a358af911a"
      },
      "execution_count": 3,
      "outputs": [
        {
          "output_type": "stream",
          "name": "stdout",
          "text": [
            "13\n"
          ]
        }
      ]
    },
    {
      "cell_type": "markdown",
      "source": [
        "<aside>\n",
        "💡 **Question 7**\n",
        "\n",
        "Given a string **str**, the task is to print all the permutations of **str**. A **permutation** is an arrangement of all or part of a set of objects, with regard to the order of the arrangement. For instance, the words ‘bat’ and ‘tab’ represents two distinct permutation (or arrangements) of a similar three letter word.\n",
        "\n",
        "**Examples:**\n",
        "\n",
        "> Input: str = “cd”\n",
        "> \n",
        "> \n",
        "> **Output:** cd dc\n",
        "> \n",
        "> **Input:** str = “abb”\n",
        "> \n",
        "> **Output:** abb abb bab bba bab bba\n",
        "> \n",
        "</aside>"
      ],
      "metadata": {
        "id": "lvcjuhqNKtzm"
      }
    },
    {
      "cell_type": "code",
      "source": [
        "def permutations(string):\n",
        "    if len(string) == 0:\n",
        "        return []\n",
        "\n",
        "    if len(string) == 1:\n",
        "        return [string]\n",
        "\n",
        "    result = []\n",
        "    for i in range(len(string)):\n",
        "        first_char = string[i]\n",
        "        remaining_chars = string[:i] + string[i+1:]\n",
        "        for perm in permutations(remaining_chars):\n",
        "            result.append(first_char + perm)\n",
        "\n",
        "    return result\n",
        "\n",
        "print(permutations(\"cd\"))\n",
        "print(permutations(\"abb\"))\n"
      ],
      "metadata": {
        "colab": {
          "base_uri": "https://localhost:8080/"
        },
        "id": "AbRFanbWJExX",
        "outputId": "f7888562-b8a3-48af-f387-5a94bc3b67ad"
      },
      "execution_count": 4,
      "outputs": [
        {
          "output_type": "stream",
          "name": "stdout",
          "text": [
            "['cd', 'dc']\n",
            "['abb', 'abb', 'bab', 'bba', 'bab', 'bba']\n"
          ]
        }
      ]
    },
    {
      "cell_type": "markdown",
      "source": [
        "<aside>\n",
        "💡 **Question 8**\n",
        "\n",
        "Given a string, count total number of consonants in it. A consonant is an English alphabet character that is not vowel (a, e, i, o and u). Examples of constants are b, c, d, f, and g.\n",
        "\n",
        "**Examples :**```\n",
        "Input : abc de\n",
        "Output : 3\n",
        "There are three consonants b, c and d.\n",
        "\n",
        "Input : geeksforgeeks portal\n",
        "Output : 12\n",
        "```\n",
        "\n",
        "</aside>"
      ],
      "metadata": {
        "id": "QVsPtjDgLEqI"
      }
    },
    {
      "cell_type": "code",
      "source": [
        "c=0\n",
        "def count_cons(s):\n",
        "  global c\n",
        "\n",
        "\n",
        "  if s[0] not in ['a','e','i','o','u',\" \"] :\n",
        "    \n",
        "    c=c+1\n",
        "\n",
        "  if len(s)==1:\n",
        "    return c\n",
        "\n",
        "  return count_cons(s[1:len(s)])\n",
        "print(count_cons(\" abc de\"))"
      ],
      "metadata": {
        "colab": {
          "base_uri": "https://localhost:8080/"
        },
        "id": "yHl8bWLKK8_z",
        "outputId": "7cc50338-38cf-4ad8-bfc3-97c17af1e169"
      },
      "execution_count": 12,
      "outputs": [
        {
          "output_type": "stream",
          "name": "stdout",
          "text": [
            "3\n"
          ]
        }
      ]
    },
    {
      "cell_type": "code",
      "source": [],
      "metadata": {
        "id": "fBqDyAaKMgWy"
      },
      "execution_count": null,
      "outputs": []
    }
  ]
}