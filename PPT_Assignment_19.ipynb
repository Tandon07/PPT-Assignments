{
  "nbformat": 4,
  "nbformat_minor": 0,
  "metadata": {
    "colab": {
      "provenance": []
    },
    "kernelspec": {
      "name": "python3",
      "display_name": "Python 3"
    },
    "language_info": {
      "name": "python"
    }
  },
  "cells": [
    {
      "cell_type": "code",
      "source": [
        "# Q1"
      ],
      "metadata": {
        "id": "fjMge0GyI7tU"
      },
      "execution_count": 2,
      "outputs": []
    },
    {
      "cell_type": "code",
      "source": [
        "def count_smaller(l):\n",
        "  l1=[]\n",
        "  if len(l)>1:\n",
        "    for i  in range(len(l)-1):\n",
        "      j=l[i]\n",
        "      if (i<len(l)-2):\n",
        "        for k in range(i+1,len(l)):\n",
        "          if l[k]<j:\n",
        "            l1.append(l[k])\n",
        "\n",
        "      if i==len(l)-2:\n",
        "        l1.append(0)\n",
        "\n",
        "  else:\n",
        "    l1.append(0)\n",
        "  return l1\n",
        "\n",
        "print(count_smaller([-1,-1]))\n",
        ""
      ],
      "metadata": {
        "colab": {
          "base_uri": "https://localhost:8080/"
        },
        "id": "2oVTX2fZI8Z1",
        "outputId": "d5ca74e2-6340-46f7-876b-991ce59f59de"
      },
      "execution_count": 16,
      "outputs": [
        {
          "output_type": "stream",
          "name": "stdout",
          "text": [
            "[0]\n"
          ]
        }
      ]
    },
    {
      "cell_type": "code",
      "source": [
        "# Q3"
      ],
      "metadata": {
        "id": "pA1bhor3LXad"
      },
      "execution_count": 18,
      "outputs": []
    },
    {
      "cell_type": "code",
      "source": [
        "def merge_sort(arr):\n",
        "    if len(arr) <= 1:\n",
        "        return arr\n",
        "\n",
        "    mid = len(arr) // 2\n",
        "    left = merge_sort(arr[:mid])\n",
        "    right = merge_sort(arr[mid:])\n",
        "    return merge(left, right)\n",
        "\n",
        "def merge(left, right):\n",
        "    merged = []\n",
        "    i = j = 0\n",
        "\n",
        "    while i < len(left) and j < len(right):\n",
        "        if left[i] <= right[j]:\n",
        "            merged.append(left[i])\n",
        "            i += 1\n",
        "        else:\n",
        "            merged.append(right[j])\n",
        "            j += 1\n",
        "\n",
        "    while i < len(left):\n",
        "        merged.append(left[i])\n",
        "        i += 1\n",
        "\n",
        "    while j < len(right):\n",
        "        merged.append(right[j])\n",
        "        j += 1\n",
        "\n",
        "    return merged\n",
        "\n",
        "\n",
        "print(merge_sort([5, 2, 8, 1, 3]))\n"
      ],
      "metadata": {
        "colab": {
          "base_uri": "https://localhost:8080/"
        },
        "id": "-U2HDwBQNHdz",
        "outputId": "b9b39182-67db-492a-efc4-294cc23893d7"
      },
      "execution_count": 19,
      "outputs": [
        {
          "output_type": "stream",
          "name": "stdout",
          "text": [
            "[1, 2, 3, 5, 8]\n"
          ]
        }
      ]
    },
    {
      "cell_type": "code",
      "source": [
        "# Q4"
      ],
      "metadata": {
        "id": "0cTosCitS5SS"
      },
      "execution_count": null,
      "outputs": []
    },
    {
      "cell_type": "code",
      "source": [
        "# def move_zero_to_end(l):\n",
        "#   for i in range(len(l)):\n",
        "#     l.remove(0)\n",
        "#     l.append(0)\n",
        "#   return l\n",
        "# print(move_zero_to_end([1, 2, 0, 4, 3, 0, 5, 0]))\n",
        "\n",
        "\n",
        "\n",
        "\n",
        "\n",
        "\n",
        "\n",
        "\n",
        "def move_zero_to_end(nums):\n",
        "    left = right = 0\n",
        "\n",
        "    while right < len(nums):\n",
        "        if nums[right] != 0:\n",
        "            nums[left], nums[right] = nums[right], nums[left]\n",
        "            left += 1\n",
        "        right += 1\n",
        "\n",
        "    while left < len(nums):\n",
        "        nums[left] = 0\n",
        "        left += 1\n",
        "    return nums\n",
        "\n",
        "print(move_zero_to_end([1, 9, 8, 4, 0, 0, 2, 7, 0, 6, 0]))\n",
        "\n"
      ],
      "metadata": {
        "colab": {
          "base_uri": "https://localhost:8080/"
        },
        "id": "XUh6QE_8NimW",
        "outputId": "8f16d6d7-749a-484a-9884-229dd2ff9b5e"
      },
      "execution_count": 32,
      "outputs": [
        {
          "output_type": "stream",
          "name": "stdout",
          "text": [
            "[1, 9, 8, 4, 2, 7, 6, 0, 0, 0, 0]\n"
          ]
        }
      ]
    },
    {
      "cell_type": "code",
      "source": [
        "# Q5"
      ],
      "metadata": {
        "id": "ZueIMGh4Qo9e"
      },
      "execution_count": 33,
      "outputs": []
    },
    {
      "cell_type": "code",
      "source": [
        "def rearrange_alternating(arr):\n",
        "    pos = 0\n",
        "    neg = 0\n",
        "\n",
        "    while pos < len(arr) and neg < len(arr):\n",
        "\n",
        "        while pos < len(arr) and arr[pos] < 0:\n",
        "            pos += 1\n",
        "\n",
        "\n",
        "        while neg < len(arr) and arr[neg] >= 0:\n",
        "            neg += 1\n",
        "\n",
        "\n",
        "        if pos < len(arr) and neg < len(arr):\n",
        "            arr[pos], arr[neg] = arr[neg], arr[pos]\n",
        "            pos += 1\n",
        "            neg += 1\n",
        "\n",
        "    return arr\n",
        "\n",
        "print(rearrange_alternating([-5, -2, 5, 2, 4, 7, 1, 8, 0, -8]))"
      ],
      "metadata": {
        "colab": {
          "base_uri": "https://localhost:8080/"
        },
        "id": "o0e_UF-EQ5CT",
        "outputId": "b49198f8-cef5-4a5b-c287-00e9e10d4253"
      },
      "execution_count": 34,
      "outputs": [
        {
          "output_type": "stream",
          "name": "stdout",
          "text": [
            "[5, 2, 4, 7, 1, 8, 0, -2, -5, -8]\n"
          ]
        }
      ]
    },
    {
      "cell_type": "code",
      "source": [
        "# Q6"
      ],
      "metadata": {
        "id": "SNwJYNaNaiWI"
      },
      "execution_count": 35,
      "outputs": []
    },
    {
      "cell_type": "code",
      "source": [
        "def merge_two_sorted(l1,l2):\n",
        "  i=0\n",
        "  j=0\n",
        "  l=[]\n",
        "  while(i<len(l1) or j<len(l2)):\n",
        "    print(i,j)\n",
        "    if (i<len(l1) and l1[i]<l2[j] ):\n",
        "      l.append(l1[i])\n",
        "      i=i+1\n",
        "    else:\n",
        "      l.append(l2[j])\n",
        "      j=j+1\n",
        "  return l\n",
        "print(merge_two_sorted([1, 3, 4, 5], [2, 4, 6, 8,9]))"
      ],
      "metadata": {
        "colab": {
          "base_uri": "https://localhost:8080/"
        },
        "id": "vg5ZnO6kapsE",
        "outputId": "e3144d47-8cb3-49b0-973c-11d28e2c8755"
      },
      "execution_count": 46,
      "outputs": [
        {
          "output_type": "stream",
          "name": "stdout",
          "text": [
            "0 0\n",
            "1 0\n",
            "1 1\n",
            "2 1\n",
            "2 2\n",
            "3 2\n",
            "4 2\n",
            "4 3\n",
            "4 4\n",
            "[1, 2, 3, 4, 4, 5, 6, 8, 9]\n"
          ]
        }
      ]
    },
    {
      "cell_type": "code",
      "source": [
        "# Q7"
      ],
      "metadata": {
        "id": "8s6mgg5GchO7"
      },
      "execution_count": 47,
      "outputs": []
    },
    {
      "cell_type": "code",
      "source": [
        "def intersection(nums1, nums2):\n",
        "    set1 = set(nums1)\n",
        "    set2 = set(nums2)\n",
        "    return list(set1 & set2)\n",
        "\n",
        "# Example usage\n",
        "nums1 = [4, 9, 5]\n",
        "nums2 = [9, 4, 9, 8, 4]\n",
        "result = intersection(nums1, nums2)\n",
        "print(result)\n"
      ],
      "metadata": {
        "colab": {
          "base_uri": "https://localhost:8080/"
        },
        "id": "U6-LyQ1BgDpH",
        "outputId": "ff6cc4aa-91b6-4ebf-a39a-2c8b32ab716e"
      },
      "execution_count": 48,
      "outputs": [
        {
          "output_type": "stream",
          "name": "stdout",
          "text": [
            "[9, 4]\n"
          ]
        }
      ]
    },
    {
      "cell_type": "code",
      "source": [
        "# Q8"
      ],
      "metadata": {
        "id": "O0LzGyWqg0A8"
      },
      "execution_count": 52,
      "outputs": []
    },
    {
      "cell_type": "code",
      "source": [
        "def intersection(nums1, nums2):\n",
        "    nums1.sort()\n",
        "    nums2.sort()\n",
        "\n",
        "    p1 = p2 = 0\n",
        "\n",
        "    while p1 < len(nums1) and p2 < len(nums2):\n",
        "        if nums1[p1] == nums2[p2]:\n",
        "            print(nums1[p1])\n",
        "            p1 += 1\n",
        "            p2 += 1\n",
        "        elif nums1[p1] < nums2[p2]:\n",
        "            p1 += 1\n",
        "        else:\n",
        "            p2 += 1\n",
        "\n",
        "intersection([4, 9, 5], [9, 4, 9, 8, 4])\n"
      ],
      "metadata": {
        "colab": {
          "base_uri": "https://localhost:8080/"
        },
        "id": "4YEaDpPjhLoh",
        "outputId": "c7e33901-61a6-4502-b4ee-c6d61c4e244e"
      },
      "execution_count": 53,
      "outputs": [
        {
          "output_type": "stream",
          "name": "stdout",
          "text": [
            "4\n",
            "9\n"
          ]
        }
      ]
    },
    {
      "cell_type": "code",
      "source": [],
      "metadata": {
        "id": "GfN4uKHDiy8f"
      },
      "execution_count": null,
      "outputs": []
    }
  ]
}