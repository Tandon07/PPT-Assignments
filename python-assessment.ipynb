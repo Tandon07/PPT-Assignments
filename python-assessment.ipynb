{
 "cells": [
  {
   "cell_type": "code",
   "execution_count": 1,
   "id": "254bc9c5",
   "metadata": {
    "_cell_guid": "b1076dfc-b9ad-4769-8c92-a6c4dae69d19",
    "_uuid": "8f2839f25d086af736a60e9eeb907d3b93b6e0e5",
    "execution": {
     "iopub.execute_input": "2023-07-07T11:34:10.647853Z",
     "iopub.status.busy": "2023-07-07T11:34:10.647303Z",
     "iopub.status.idle": "2023-07-07T11:34:10.664504Z",
     "shell.execute_reply": "2023-07-07T11:34:10.662872Z"
    },
    "papermill": {
     "duration": 0.035792,
     "end_time": "2023-07-07T11:34:10.667142",
     "exception": false,
     "start_time": "2023-07-07T11:34:10.631350",
     "status": "completed"
    },
    "tags": []
   },
   "outputs": [
    {
     "name": "stdout",
     "output_type": "stream",
     "text": [
      "saur\n",
      "aur\n",
      "ur\n",
      "r\n",
      "ruas\n"
     ]
    }
   ],
   "source": [
    "def reverse(s):\n",
    "    print(s)\n",
    "    if len(s)<=1:\n",
    "        return s\n",
    "    \n",
    "    return reverse(s[1:])+s[0]\n",
    "print(reverse(\"saur\"))\n"
   ]
  },
  {
   "cell_type": "code",
   "execution_count": 2,
   "id": "5dbfb740",
   "metadata": {
    "execution": {
     "iopub.execute_input": "2023-07-07T11:34:10.691709Z",
     "iopub.status.busy": "2023-07-07T11:34:10.691123Z",
     "iopub.status.idle": "2023-07-07T11:34:10.696293Z",
     "shell.execute_reply": "2023-07-07T11:34:10.694952Z"
    },
    "papermill": {
     "duration": 0.020367,
     "end_time": "2023-07-07T11:34:10.698738",
     "exception": false,
     "start_time": "2023-07-07T11:34:10.678371",
     "status": "completed"
    },
    "tags": []
   },
   "outputs": [],
   "source": [
    "# Q2"
   ]
  },
  {
   "cell_type": "code",
   "execution_count": 3,
   "id": "7f6e6434",
   "metadata": {
    "execution": {
     "iopub.execute_input": "2023-07-07T11:34:10.723282Z",
     "iopub.status.busy": "2023-07-07T11:34:10.722836Z",
     "iopub.status.idle": "2023-07-07T11:34:10.729972Z",
     "shell.execute_reply": "2023-07-07T11:34:10.728542Z"
    },
    "papermill": {
     "duration": 0.022922,
     "end_time": "2023-07-07T11:34:10.732479",
     "exception": false,
     "start_time": "2023-07-07T11:34:10.709557",
     "status": "completed"
    },
    "tags": []
   },
   "outputs": [
    {
     "name": "stdout",
     "output_type": "stream",
     "text": [
      "True\n"
     ]
    }
   ],
   "source": [
    "def check_palindrome(s):\n",
    "    if s.lower()==s[::-1].lower():\n",
    "        return True\n",
    "    else:\n",
    "        return False\n",
    "print(check_palindrome(\"Nan\"))"
   ]
  },
  {
   "cell_type": "code",
   "execution_count": 4,
   "id": "236e7a63",
   "metadata": {
    "execution": {
     "iopub.execute_input": "2023-07-07T11:34:10.757040Z",
     "iopub.status.busy": "2023-07-07T11:34:10.756355Z",
     "iopub.status.idle": "2023-07-07T11:34:10.761204Z",
     "shell.execute_reply": "2023-07-07T11:34:10.760147Z"
    },
    "papermill": {
     "duration": 0.019743,
     "end_time": "2023-07-07T11:34:10.763571",
     "exception": false,
     "start_time": "2023-07-07T11:34:10.743828",
     "status": "completed"
    },
    "tags": []
   },
   "outputs": [],
   "source": [
    "# Q3"
   ]
  },
  {
   "cell_type": "code",
   "execution_count": 5,
   "id": "fbc14fa4",
   "metadata": {
    "execution": {
     "iopub.execute_input": "2023-07-07T11:34:10.787535Z",
     "iopub.status.busy": "2023-07-07T11:34:10.787128Z",
     "iopub.status.idle": "2023-07-07T11:34:10.793630Z",
     "shell.execute_reply": "2023-07-07T11:34:10.792584Z"
    },
    "papermill": {
     "duration": 0.02131,
     "end_time": "2023-07-07T11:34:10.796163",
     "exception": false,
     "start_time": "2023-07-07T11:34:10.774853",
     "status": "completed"
    },
    "tags": []
   },
   "outputs": [
    {
     "name": "stdout",
     "output_type": "stream",
     "text": [
      "8\n"
     ]
    }
   ],
   "source": [
    "def largest(l):\n",
    "    l.sort()\n",
    "    return l[len(l)-1]\n",
    "print(largest([2,3,1,8,4,6]))"
   ]
  },
  {
   "cell_type": "code",
   "execution_count": 6,
   "id": "4b9a4ebf",
   "metadata": {
    "execution": {
     "iopub.execute_input": "2023-07-07T11:34:10.820794Z",
     "iopub.status.busy": "2023-07-07T11:34:10.820351Z",
     "iopub.status.idle": "2023-07-07T11:34:10.825469Z",
     "shell.execute_reply": "2023-07-07T11:34:10.824101Z"
    },
    "papermill": {
     "duration": 0.020412,
     "end_time": "2023-07-07T11:34:10.827946",
     "exception": false,
     "start_time": "2023-07-07T11:34:10.807534",
     "status": "completed"
    },
    "tags": []
   },
   "outputs": [],
   "source": [
    "# Q4"
   ]
  },
  {
   "cell_type": "code",
   "execution_count": 7,
   "id": "3e0e98bf",
   "metadata": {
    "execution": {
     "iopub.execute_input": "2023-07-07T11:34:10.852238Z",
     "iopub.status.busy": "2023-07-07T11:34:10.851806Z",
     "iopub.status.idle": "2023-07-07T11:34:10.859131Z",
     "shell.execute_reply": "2023-07-07T11:34:10.858186Z"
    },
    "papermill": {
     "duration": 0.022648,
     "end_time": "2023-07-07T11:34:10.861834",
     "exception": false,
     "start_time": "2023-07-07T11:34:10.839186",
     "status": "completed"
    },
    "tags": []
   },
   "outputs": [
    {
     "name": "stdout",
     "output_type": "stream",
     "text": [
      "{4: 3, 6: 3, 8: 1, 9: 1, 3: 1}\n"
     ]
    }
   ],
   "source": [
    "def occurance(l):\n",
    "    dict={}\n",
    "    for i in l:\n",
    "        if i not in dict:\n",
    "            dict[i]=1\n",
    "        else:\n",
    "            dict[i]=dict[i]+1\n",
    "    return dict\n",
    "print(occurance([4,6,4,6,8,9,3,6,4]))\n",
    "  "
   ]
  },
  {
   "cell_type": "code",
   "execution_count": 8,
   "id": "4d785150",
   "metadata": {
    "execution": {
     "iopub.execute_input": "2023-07-07T11:34:10.886920Z",
     "iopub.status.busy": "2023-07-07T11:34:10.886494Z",
     "iopub.status.idle": "2023-07-07T11:34:10.891034Z",
     "shell.execute_reply": "2023-07-07T11:34:10.889956Z"
    },
    "papermill": {
     "duration": 0.020428,
     "end_time": "2023-07-07T11:34:10.894114",
     "exception": false,
     "start_time": "2023-07-07T11:34:10.873686",
     "status": "completed"
    },
    "tags": []
   },
   "outputs": [],
   "source": [
    "# Q5"
   ]
  },
  {
   "cell_type": "code",
   "execution_count": 9,
   "id": "3ff2bdc7",
   "metadata": {
    "execution": {
     "iopub.execute_input": "2023-07-07T11:34:10.918547Z",
     "iopub.status.busy": "2023-07-07T11:34:10.918117Z",
     "iopub.status.idle": "2023-07-07T11:34:10.925541Z",
     "shell.execute_reply": "2023-07-07T11:34:10.924258Z"
    },
    "papermill": {
     "duration": 0.022916,
     "end_time": "2023-07-07T11:34:10.928399",
     "exception": false,
     "start_time": "2023-07-07T11:34:10.905483",
     "status": "completed"
    },
    "tags": []
   },
   "outputs": [
    {
     "name": "stdout",
     "output_type": "stream",
     "text": [
      "9\n"
     ]
    }
   ],
   "source": [
    "def second_largest(l):\n",
    "    sec_lar=largest=l[0]\n",
    "    for i in l:\n",
    "        if i>largest:\n",
    "            sec_lar=largest\n",
    "            largest=i\n",
    "        elif i>sec_lar and i<largest:\n",
    "            sec_lar=i\n",
    "    return sec_lar\n",
    "print(second_largest([5,6,3,8,9,10]))"
   ]
  },
  {
   "cell_type": "code",
   "execution_count": 10,
   "id": "9cf8e765",
   "metadata": {
    "execution": {
     "iopub.execute_input": "2023-07-07T11:34:10.952578Z",
     "iopub.status.busy": "2023-07-07T11:34:10.952125Z",
     "iopub.status.idle": "2023-07-07T11:34:10.957448Z",
     "shell.execute_reply": "2023-07-07T11:34:10.956293Z"
    },
    "papermill": {
     "duration": 0.020459,
     "end_time": "2023-07-07T11:34:10.959963",
     "exception": false,
     "start_time": "2023-07-07T11:34:10.939504",
     "status": "completed"
    },
    "tags": []
   },
   "outputs": [],
   "source": [
    "# Q6"
   ]
  },
  {
   "cell_type": "code",
   "execution_count": 11,
   "id": "3ee5e103",
   "metadata": {
    "execution": {
     "iopub.execute_input": "2023-07-07T11:34:10.984366Z",
     "iopub.status.busy": "2023-07-07T11:34:10.983916Z",
     "iopub.status.idle": "2023-07-07T11:34:10.991429Z",
     "shell.execute_reply": "2023-07-07T11:34:10.989900Z"
    },
    "papermill": {
     "duration": 0.022723,
     "end_time": "2023-07-07T11:34:10.993967",
     "exception": false,
     "start_time": "2023-07-07T11:34:10.971244",
     "status": "completed"
    },
    "tags": []
   },
   "outputs": [
    {
     "name": "stdout",
     "output_type": "stream",
     "text": [
      "{2, 4, 5, 8, 9}\n"
     ]
    }
   ],
   "source": [
    "def remove_duplicates(l):\n",
    "    return set(l)\n",
    "print(remove_duplicates([4,5,2,4,8,9,9,9]))"
   ]
  },
  {
   "cell_type": "code",
   "execution_count": 12,
   "id": "6da46fef",
   "metadata": {
    "execution": {
     "iopub.execute_input": "2023-07-07T11:34:11.021094Z",
     "iopub.status.busy": "2023-07-07T11:34:11.020598Z",
     "iopub.status.idle": "2023-07-07T11:34:11.026181Z",
     "shell.execute_reply": "2023-07-07T11:34:11.024997Z"
    },
    "papermill": {
     "duration": 0.021056,
     "end_time": "2023-07-07T11:34:11.028360",
     "exception": false,
     "start_time": "2023-07-07T11:34:11.007304",
     "status": "completed"
    },
    "tags": []
   },
   "outputs": [],
   "source": [
    "# Q7"
   ]
  },
  {
   "cell_type": "code",
   "execution_count": 13,
   "id": "d81e42a8",
   "metadata": {
    "execution": {
     "iopub.execute_input": "2023-07-07T11:34:11.052723Z",
     "iopub.status.busy": "2023-07-07T11:34:11.052129Z",
     "iopub.status.idle": "2023-07-07T11:34:11.059797Z",
     "shell.execute_reply": "2023-07-07T11:34:11.058236Z"
    },
    "papermill": {
     "duration": 0.022923,
     "end_time": "2023-07-07T11:34:11.062332",
     "exception": false,
     "start_time": "2023-07-07T11:34:11.039409",
     "status": "completed"
    },
    "tags": []
   },
   "outputs": [
    {
     "name": "stdout",
     "output_type": "stream",
     "text": [
      "120\n"
     ]
    }
   ],
   "source": [
    "def fact(n):\n",
    "    if n==0:\n",
    "        return 1\n",
    "    if n==1:\n",
    "        return 1\n",
    "    return n*fact(n-1)\n",
    "print(fact(5))"
   ]
  },
  {
   "cell_type": "code",
   "execution_count": 14,
   "id": "ce0e30c6",
   "metadata": {
    "execution": {
     "iopub.execute_input": "2023-07-07T11:34:11.086851Z",
     "iopub.status.busy": "2023-07-07T11:34:11.086436Z",
     "iopub.status.idle": "2023-07-07T11:34:11.091816Z",
     "shell.execute_reply": "2023-07-07T11:34:11.090496Z"
    },
    "papermill": {
     "duration": 0.020586,
     "end_time": "2023-07-07T11:34:11.094127",
     "exception": false,
     "start_time": "2023-07-07T11:34:11.073541",
     "status": "completed"
    },
    "tags": []
   },
   "outputs": [],
   "source": [
    "# Q8"
   ]
  },
  {
   "cell_type": "code",
   "execution_count": 15,
   "id": "7c7d32cc",
   "metadata": {
    "execution": {
     "iopub.execute_input": "2023-07-07T11:34:11.118597Z",
     "iopub.status.busy": "2023-07-07T11:34:11.118121Z",
     "iopub.status.idle": "2023-07-07T11:34:11.127232Z",
     "shell.execute_reply": "2023-07-07T11:34:11.125935Z"
    },
    "papermill": {
     "duration": 0.02425,
     "end_time": "2023-07-07T11:34:11.129503",
     "exception": false,
     "start_time": "2023-07-07T11:34:11.105253",
     "status": "completed"
    },
    "tags": []
   },
   "outputs": [
    {
     "name": "stdout",
     "output_type": "stream",
     "text": [
      "True\n"
     ]
    }
   ],
   "source": [
    "def prime(n):\n",
    "    if n==1:\n",
    "        return False\n",
    "    elif n==2 or n==3:\n",
    "        return True\n",
    "    else:\n",
    "        for i in range(2,int(n/2)+1):\n",
    "            if float(n%i)==0:\n",
    "                return False\n",
    "            \n",
    "        return True\n",
    "            \n",
    "print(prime(23))"
   ]
  },
  {
   "cell_type": "code",
   "execution_count": 16,
   "id": "39080c47",
   "metadata": {
    "execution": {
     "iopub.execute_input": "2023-07-07T11:34:11.154330Z",
     "iopub.status.busy": "2023-07-07T11:34:11.153879Z",
     "iopub.status.idle": "2023-07-07T11:34:11.159098Z",
     "shell.execute_reply": "2023-07-07T11:34:11.157809Z"
    },
    "papermill": {
     "duration": 0.020615,
     "end_time": "2023-07-07T11:34:11.161576",
     "exception": false,
     "start_time": "2023-07-07T11:34:11.140961",
     "status": "completed"
    },
    "tags": []
   },
   "outputs": [],
   "source": [
    "# Q9"
   ]
  },
  {
   "cell_type": "code",
   "execution_count": 17,
   "id": "f558b7db",
   "metadata": {
    "execution": {
     "iopub.execute_input": "2023-07-07T11:34:11.186501Z",
     "iopub.status.busy": "2023-07-07T11:34:11.185917Z",
     "iopub.status.idle": "2023-07-07T11:34:11.193441Z",
     "shell.execute_reply": "2023-07-07T11:34:11.192459Z"
    },
    "papermill": {
     "duration": 0.022952,
     "end_time": "2023-07-07T11:34:11.195970",
     "exception": false,
     "start_time": "2023-07-07T11:34:11.173018",
     "status": "completed"
    },
    "tags": []
   },
   "outputs": [
    {
     "name": "stdout",
     "output_type": "stream",
     "text": [
      "[1, 2, 3, 4, 5, 6]\n"
     ]
    }
   ],
   "source": [
    "def sort_asc(l):\n",
    "    l.sort()\n",
    "    return l\n",
    "print(sort_asc([5,6,4,3,2,1]))\n",
    "            \n",
    "        "
   ]
  },
  {
   "cell_type": "code",
   "execution_count": 18,
   "id": "75025183",
   "metadata": {
    "execution": {
     "iopub.execute_input": "2023-07-07T11:34:11.221407Z",
     "iopub.status.busy": "2023-07-07T11:34:11.220940Z",
     "iopub.status.idle": "2023-07-07T11:34:11.226742Z",
     "shell.execute_reply": "2023-07-07T11:34:11.225285Z"
    },
    "papermill": {
     "duration": 0.022068,
     "end_time": "2023-07-07T11:34:11.229454",
     "exception": false,
     "start_time": "2023-07-07T11:34:11.207386",
     "status": "completed"
    },
    "tags": []
   },
   "outputs": [],
   "source": [
    "# Q10"
   ]
  },
  {
   "cell_type": "code",
   "execution_count": 19,
   "id": "6613cf52",
   "metadata": {
    "execution": {
     "iopub.execute_input": "2023-07-07T11:34:11.255392Z",
     "iopub.status.busy": "2023-07-07T11:34:11.254909Z",
     "iopub.status.idle": "2023-07-07T11:34:11.262355Z",
     "shell.execute_reply": "2023-07-07T11:34:11.260895Z"
    },
    "papermill": {
     "duration": 0.023287,
     "end_time": "2023-07-07T11:34:11.265044",
     "exception": false,
     "start_time": "2023-07-07T11:34:11.241757",
     "status": "completed"
    },
    "tags": []
   },
   "outputs": [
    {
     "name": "stdout",
     "output_type": "stream",
     "text": [
      "17\n"
     ]
    }
   ],
   "source": [
    "def sum_list(l):\n",
    "    sum=0\n",
    "    for i in l:\n",
    "        sum+=i\n",
    "    return sum\n",
    "print(sum_list([3,7,2,5]))"
   ]
  },
  {
   "cell_type": "code",
   "execution_count": 20,
   "id": "2ea92306",
   "metadata": {
    "execution": {
     "iopub.execute_input": "2023-07-07T11:34:11.290574Z",
     "iopub.status.busy": "2023-07-07T11:34:11.290155Z",
     "iopub.status.idle": "2023-07-07T11:34:11.295829Z",
     "shell.execute_reply": "2023-07-07T11:34:11.294260Z"
    },
    "papermill": {
     "duration": 0.021483,
     "end_time": "2023-07-07T11:34:11.298242",
     "exception": false,
     "start_time": "2023-07-07T11:34:11.276759",
     "status": "completed"
    },
    "tags": []
   },
   "outputs": [],
   "source": [
    "# Q11"
   ]
  },
  {
   "cell_type": "code",
   "execution_count": 21,
   "id": "bf117c12",
   "metadata": {
    "execution": {
     "iopub.execute_input": "2023-07-07T11:34:11.323754Z",
     "iopub.status.busy": "2023-07-07T11:34:11.323270Z",
     "iopub.status.idle": "2023-07-07T11:34:11.330276Z",
     "shell.execute_reply": "2023-07-07T11:34:11.329057Z"
    },
    "papermill": {
     "duration": 0.023167,
     "end_time": "2023-07-07T11:34:11.332876",
     "exception": false,
     "start_time": "2023-07-07T11:34:11.309709",
     "status": "completed"
    },
    "tags": []
   },
   "outputs": [
    {
     "name": "stdout",
     "output_type": "stream",
     "text": [
      "{4, 6}\n"
     ]
    }
   ],
   "source": [
    "def common_ele(l1,l2):\n",
    "    return set(l1).intersection(l2)\n",
    "    \n",
    "print(common_ele([2,4,6,8],[3,4,5,6]))    "
   ]
  },
  {
   "cell_type": "code",
   "execution_count": 22,
   "id": "c0aec1b0",
   "metadata": {
    "execution": {
     "iopub.execute_input": "2023-07-07T11:34:11.358392Z",
     "iopub.status.busy": "2023-07-07T11:34:11.357908Z",
     "iopub.status.idle": "2023-07-07T11:34:11.363087Z",
     "shell.execute_reply": "2023-07-07T11:34:11.361514Z"
    },
    "papermill": {
     "duration": 0.021235,
     "end_time": "2023-07-07T11:34:11.365635",
     "exception": false,
     "start_time": "2023-07-07T11:34:11.344400",
     "status": "completed"
    },
    "tags": []
   },
   "outputs": [],
   "source": [
    "# Q12"
   ]
  },
  {
   "cell_type": "code",
   "execution_count": 23,
   "id": "c6f231a0",
   "metadata": {
    "execution": {
     "iopub.execute_input": "2023-07-07T11:34:11.391378Z",
     "iopub.status.busy": "2023-07-07T11:34:11.390875Z",
     "iopub.status.idle": "2023-07-07T11:34:11.398607Z",
     "shell.execute_reply": "2023-07-07T11:34:11.397278Z"
    },
    "papermill": {
     "duration": 0.02433,
     "end_time": "2023-07-07T11:34:11.401690",
     "exception": false,
     "start_time": "2023-07-07T11:34:11.377360",
     "status": "completed"
    },
    "tags": []
   },
   "outputs": [
    {
     "name": "stdout",
     "output_type": "stream",
     "text": [
      "True\n"
     ]
    }
   ],
   "source": [
    "def check_if_it_has(s1,s2):\n",
    "    i=0\n",
    "    while (s1 and s2):\n",
    "\n",
    "        if (s2.find(s1[i])>=0):\n",
    "\n",
    "            i+=1\n",
    "            if (i==(len(s1)) or i==len(s2)):\n",
    "                break\n",
    "            continue\n",
    "        else:\n",
    "\n",
    "            return False\n",
    "    return True\n",
    "print(check_if_it_has(\"saurabh\",\"asur\"))\n",
    "        "
   ]
  },
  {
   "cell_type": "code",
   "execution_count": 24,
   "id": "8d812cb0",
   "metadata": {
    "execution": {
     "iopub.execute_input": "2023-07-07T11:34:11.429226Z",
     "iopub.status.busy": "2023-07-07T11:34:11.428760Z",
     "iopub.status.idle": "2023-07-07T11:34:11.433290Z",
     "shell.execute_reply": "2023-07-07T11:34:11.432138Z"
    },
    "papermill": {
     "duration": 0.021332,
     "end_time": "2023-07-07T11:34:11.435643",
     "exception": false,
     "start_time": "2023-07-07T11:34:11.414311",
     "status": "completed"
    },
    "tags": []
   },
   "outputs": [],
   "source": [
    "# Q14"
   ]
  },
  {
   "cell_type": "code",
   "execution_count": 25,
   "id": "bb64eca4",
   "metadata": {
    "execution": {
     "iopub.execute_input": "2023-07-07T11:34:11.462129Z",
     "iopub.status.busy": "2023-07-07T11:34:11.461696Z",
     "iopub.status.idle": "2023-07-07T11:34:11.468687Z",
     "shell.execute_reply": "2023-07-07T11:34:11.467139Z"
    },
    "papermill": {
     "duration": 0.024114,
     "end_time": "2023-07-07T11:34:11.471949",
     "exception": false,
     "start_time": "2023-07-07T11:34:11.447835",
     "status": "completed"
    },
    "tags": []
   },
   "outputs": [
    {
     "name": "stdout",
     "output_type": "stream",
     "text": [
      "21\n"
     ]
    }
   ],
   "source": [
    "def fibonacci(n):\n",
    "    if n<=1:\n",
    "        return n\n",
    "    else:\n",
    "        return fibonacci(n-1)+fibonacci(n-2)\n",
    "print(fibonacci(8))"
   ]
  },
  {
   "cell_type": "code",
   "execution_count": 26,
   "id": "46588c39",
   "metadata": {
    "execution": {
     "iopub.execute_input": "2023-07-07T11:34:11.499561Z",
     "iopub.status.busy": "2023-07-07T11:34:11.499135Z",
     "iopub.status.idle": "2023-07-07T11:34:11.504313Z",
     "shell.execute_reply": "2023-07-07T11:34:11.503037Z"
    },
    "papermill": {
     "duration": 0.021986,
     "end_time": "2023-07-07T11:34:11.506927",
     "exception": false,
     "start_time": "2023-07-07T11:34:11.484941",
     "status": "completed"
    },
    "tags": []
   },
   "outputs": [],
   "source": [
    "# Q15/"
   ]
  },
  {
   "cell_type": "code",
   "execution_count": 27,
   "id": "c584c78a",
   "metadata": {
    "execution": {
     "iopub.execute_input": "2023-07-07T11:34:11.533701Z",
     "iopub.status.busy": "2023-07-07T11:34:11.533235Z",
     "iopub.status.idle": "2023-07-07T11:34:11.540542Z",
     "shell.execute_reply": "2023-07-07T11:34:11.539191Z"
    },
    "papermill": {
     "duration": 0.024122,
     "end_time": "2023-07-07T11:34:11.543259",
     "exception": false,
     "start_time": "2023-07-07T11:34:11.519137",
     "status": "completed"
    },
    "tags": []
   },
   "outputs": [
    {
     "name": "stdout",
     "output_type": "stream",
     "text": [
      "False\n"
     ]
    }
   ],
   "source": [
    "def check_asc_order(l):\n",
    "    s=l.copy()\n",
    "    l.sort()\n",
    "    if s==l:\n",
    "        return True\n",
    "    else:\n",
    "        return False\n",
    "print(check_asc_order([4,6,7,2,5]))"
   ]
  },
  {
   "cell_type": "code",
   "execution_count": 28,
   "id": "0f12545b",
   "metadata": {
    "execution": {
     "iopub.execute_input": "2023-07-07T11:34:11.571180Z",
     "iopub.status.busy": "2023-07-07T11:34:11.570745Z",
     "iopub.status.idle": "2023-07-07T11:34:11.576041Z",
     "shell.execute_reply": "2023-07-07T11:34:11.574625Z"
    },
    "papermill": {
     "duration": 0.022893,
     "end_time": "2023-07-07T11:34:11.578728",
     "exception": false,
     "start_time": "2023-07-07T11:34:11.555835",
     "status": "completed"
    },
    "tags": []
   },
   "outputs": [],
   "source": [
    "# Q16"
   ]
  },
  {
   "cell_type": "code",
   "execution_count": 29,
   "id": "66c64bcf",
   "metadata": {
    "execution": {
     "iopub.execute_input": "2023-07-07T11:34:11.605816Z",
     "iopub.status.busy": "2023-07-07T11:34:11.605329Z",
     "iopub.status.idle": "2023-07-07T11:34:11.613601Z",
     "shell.execute_reply": "2023-07-07T11:34:11.612386Z"
    },
    "papermill": {
     "duration": 0.024617,
     "end_time": "2023-07-07T11:34:11.615993",
     "exception": false,
     "start_time": "2023-07-07T11:34:11.591376",
     "status": "completed"
    },
    "tags": []
   },
   "outputs": [
    {
     "name": "stdout",
     "output_type": "stream",
     "text": [
      "5\n"
     ]
    }
   ],
   "source": [
    "def find_median(l):\n",
    "    l.sort()\n",
    "    if len(l)%2==0:\n",
    "        print(int((len(l)/2)))\n",
    "        med=float((l[int((len(l)/2))-1]+l[int((len(l)/2))])/2)\n",
    "    else:\n",
    "        med=l[int(len(l)/2)+1]\n",
    "    return med\n",
    "print(find_median([2,3,5,7,1]))"
   ]
  },
  {
   "cell_type": "code",
   "execution_count": 30,
   "id": "9e63d772",
   "metadata": {
    "execution": {
     "iopub.execute_input": "2023-07-07T11:34:11.642050Z",
     "iopub.status.busy": "2023-07-07T11:34:11.641503Z",
     "iopub.status.idle": "2023-07-07T11:34:11.647300Z",
     "shell.execute_reply": "2023-07-07T11:34:11.645977Z"
    },
    "papermill": {
     "duration": 0.022136,
     "end_time": "2023-07-07T11:34:11.650018",
     "exception": false,
     "start_time": "2023-07-07T11:34:11.627882",
     "status": "completed"
    },
    "tags": []
   },
   "outputs": [],
   "source": [
    "# Q17"
   ]
  },
  {
   "cell_type": "code",
   "execution_count": 31,
   "id": "e5dc5988",
   "metadata": {
    "execution": {
     "iopub.execute_input": "2023-07-07T11:34:11.676303Z",
     "iopub.status.busy": "2023-07-07T11:34:11.675812Z",
     "iopub.status.idle": "2023-07-07T11:34:11.684155Z",
     "shell.execute_reply": "2023-07-07T11:34:11.682711Z"
    },
    "papermill": {
     "duration": 0.024863,
     "end_time": "2023-07-07T11:34:11.687117",
     "exception": false,
     "start_time": "2023-07-07T11:34:11.662254",
     "status": "completed"
    },
    "tags": []
   },
   "outputs": [
    {
     "name": "stdout",
     "output_type": "stream",
     "text": [
      "[3, 3]\n"
     ]
    }
   ],
   "source": [
    "def find_interection(l1,l2):\n",
    "    intersection=[]\n",
    "    for i in l1:\n",
    "        if i in l2:\n",
    "            intersection.append(i)\n",
    "    return intersection\n",
    "print(find_interection([3,5,6,3],[3,7,9,2]))"
   ]
  },
  {
   "cell_type": "code",
   "execution_count": 32,
   "id": "f6a0820c",
   "metadata": {
    "execution": {
     "iopub.execute_input": "2023-07-07T11:34:11.715260Z",
     "iopub.status.busy": "2023-07-07T11:34:11.714863Z",
     "iopub.status.idle": "2023-07-07T11:34:11.720289Z",
     "shell.execute_reply": "2023-07-07T11:34:11.719161Z"
    },
    "papermill": {
     "duration": 0.022948,
     "end_time": "2023-07-07T11:34:11.722805",
     "exception": false,
     "start_time": "2023-07-07T11:34:11.699857",
     "status": "completed"
    },
    "tags": []
   },
   "outputs": [],
   "source": [
    "# Q19"
   ]
  },
  {
   "cell_type": "code",
   "execution_count": 33,
   "id": "a886845a",
   "metadata": {
    "execution": {
     "iopub.execute_input": "2023-07-07T11:34:11.750433Z",
     "iopub.status.busy": "2023-07-07T11:34:11.749572Z",
     "iopub.status.idle": "2023-07-07T11:34:11.757259Z",
     "shell.execute_reply": "2023-07-07T11:34:11.755728Z"
    },
    "papermill": {
     "duration": 0.024495,
     "end_time": "2023-07-07T11:34:11.759967",
     "exception": false,
     "start_time": "2023-07-07T11:34:11.735472",
     "status": "completed"
    },
    "tags": []
   },
   "outputs": [
    {
     "name": "stdout",
     "output_type": "stream",
     "text": [
      "sr\n"
     ]
    }
   ],
   "source": [
    "def remove_vowels(s):\n",
    "    vowels=[\"a\",\"e\",\"i\",\"o\",\"u\"]\n",
    "    return \"\".join([char for char in s if char not in vowels ])\n",
    "print(remove_vowels(\"asur\"))    "
   ]
  },
  {
   "cell_type": "code",
   "execution_count": null,
   "id": "f88d0094",
   "metadata": {
    "papermill": {
     "duration": 0.012123,
     "end_time": "2023-07-07T11:34:11.784395",
     "exception": false,
     "start_time": "2023-07-07T11:34:11.772272",
     "status": "completed"
    },
    "tags": []
   },
   "outputs": [],
   "source": []
  }
 ],
 "metadata": {
  "kernelspec": {
   "display_name": "Python 3",
   "language": "python",
   "name": "python3"
  },
  "language_info": {
   "codemirror_mode": {
    "name": "ipython",
    "version": 3
   },
   "file_extension": ".py",
   "mimetype": "text/x-python",
   "name": "python",
   "nbconvert_exporter": "python",
   "pygments_lexer": "ipython3",
   "version": "3.10.10"
  },
  "papermill": {
   "default_parameters": {},
   "duration": 15.683834,
   "end_time": "2023-07-07T11:34:13.023352",
   "environment_variables": {},
   "exception": null,
   "input_path": "__notebook__.ipynb",
   "output_path": "__notebook__.ipynb",
   "parameters": {},
   "start_time": "2023-07-07T11:33:57.339518",
   "version": "2.4.0"
  }
 },
 "nbformat": 4,
 "nbformat_minor": 5
}
