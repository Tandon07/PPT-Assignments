{
 "cells": [
  {
   "cell_type": "code",
   "execution_count": 1,
   "id": "3182cdaa",
   "metadata": {},
   "outputs": [],
   "source": [
    "import scipy.stats as stats"
   ]
  },
  {
   "cell_type": "code",
   "execution_count": 2,
   "id": "b0bca2a9",
   "metadata": {},
   "outputs": [],
   "source": [
    "n = 120\n",
    "sample_mean = 1100\n",
    "sample_std_dev = 90\n",
    "population_mean = 1000\n",
    "alpha = 0.01\n"
   ]
  },
  {
   "cell_type": "code",
   "execution_count": 3,
   "id": "dd286f75",
   "metadata": {},
   "outputs": [],
   "source": [
    "t_score = (sample_mean - population_mean) / (sample_std_dev / (n ** 0.5))\n"
   ]
  },
  {
   "cell_type": "code",
   "execution_count": 4,
   "id": "3d6186fe",
   "metadata": {},
   "outputs": [],
   "source": [
    "degrees_of_freedom = n - 1\n"
   ]
  },
  {
   "cell_type": "code",
   "execution_count": 5,
   "id": "d7a0d4b7",
   "metadata": {},
   "outputs": [],
   "source": [
    "critical_value = stats.t.ppf(1 - alpha, df=degrees_of_freedom)\n"
   ]
  },
  {
   "cell_type": "code",
   "execution_count": 6,
   "id": "1f9d81a7",
   "metadata": {},
   "outputs": [
    {
     "name": "stdout",
     "output_type": "stream",
     "text": [
      "Reject the null hypothesis. The new tube lights have a longer average life.\n"
     ]
    }
   ],
   "source": [
    "if t_score > critical_value:\n",
    "    print(\"Reject the null hypothesis. The new tube lights have a longer average life.\")\n",
    "else:\n",
    "    print(\"Fail to reject the null hypothesis. There is not enough evidence to conclude that the new tube lights have a longer average life.\")\n"
   ]
  },
  {
   "cell_type": "code",
   "execution_count": null,
   "id": "2ed0ca17",
   "metadata": {},
   "outputs": [],
   "source": []
  }
 ],
 "metadata": {
  "kernelspec": {
   "display_name": "Python 3 (ipykernel)",
   "language": "python",
   "name": "python3"
  },
  "language_info": {
   "codemirror_mode": {
    "name": "ipython",
    "version": 3
   },
   "file_extension": ".py",
   "mimetype": "text/x-python",
   "name": "python",
   "nbconvert_exporter": "python",
   "pygments_lexer": "ipython3",
   "version": "3.9.12"
  }
 },
 "nbformat": 4,
 "nbformat_minor": 5
}
