{
 "cells": [
  {
   "cell_type": "code",
   "execution_count": 2,
   "id": "f1ea60d1",
   "metadata": {},
   "outputs": [],
   "source": [
    "# Q1 Merge Intervals"
   ]
  },
  {
   "cell_type": "code",
   "execution_count": 20,
   "id": "896fe603",
   "metadata": {},
   "outputs": [
    {
     "name": "stdout",
     "output_type": "stream",
     "text": [
      "[[1, 5]]\n"
     ]
    }
   ],
   "source": [
    "def merge_intervals(l):\n",
    "    l1=[]\n",
    "    for i in range(len(l)-1):\n",
    "        if (l[i][1]>=l[i+1][0] and l[i+1][1]>=l[i][1]):\n",
    "            l1.append([l[i][0],l[i+1][1]])\n",
    "        else:\n",
    "            l1.append(l[i+1])\n",
    "        i=i+1\n",
    "    return l1\n",
    "# print(merge_intervals([[1,3],[2,6],[8,10],[15,18]]))\n",
    "print(merge_intervals([[1,4],[4,5]]))\n",
    "            "
   ]
  },
  {
   "cell_type": "raw",
   "id": "6d2210fe",
   "metadata": {},
   "source": [
    "Q2 Sort Colors"
   ]
  },
  {
   "cell_type": "code",
   "execution_count": 28,
   "id": "8bc31c1d",
   "metadata": {},
   "outputs": [
    {
     "name": "stdout",
     "output_type": "stream",
     "text": [
      "[0, 0, 1, 1, 2, 2, 3]\n"
     ]
    }
   ],
   "source": [
    "def color_sort(l):\n",
    "\n",
    "    max_value = max(l)\n",
    "\n",
    "    count = [0] * (max_value + 1)\n",
    "#     print(count)\n",
    "    for num in l:\n",
    "        count[num] += 1\n",
    "#         print(count)\n",
    "\n",
    "    sorted_arr = []\n",
    "    for i in range(len(count)):\n",
    "        sorted_arr.extend([i] * count[i])\n",
    "    \n",
    "    return sorted_arr\n",
    "print(color_sort([2,0,2,1,1,0,3]))\n"
   ]
  },
  {
   "cell_type": "code",
   "execution_count": 31,
   "id": "8a9f6c81",
   "metadata": {},
   "outputs": [],
   "source": [
    "# Q3\n",
    "# First bad version solutuion"
   ]
  },
  {
   "cell_type": "code",
   "execution_count": 51,
   "id": "b54a8af2",
   "metadata": {},
   "outputs": [
    {
     "data": {
      "text/plain": [
       "False"
      ]
     },
     "execution_count": 51,
     "metadata": {},
     "output_type": "execute_result"
    }
   ],
   "source": [
    "class bad_version:\n",
    "    def __init__(self, n, bad):\n",
    "        self.n = n\n",
    "        self.bad = bad\n",
    "\n",
    "    def first_bad_version(self):\n",
    "        return self.bad\n",
    "    \n",
    "\n",
    "class isbad(bad_version):\n",
    "    \n",
    "    def __init__(self, n1):\n",
    "        self.n1 = n1\n",
    "        \n",
    "    \n",
    "    def isbaadversion(self):\n",
    "        bad=bad_version(5,4).first_bad_version()\n",
    "        \n",
    "        if self.n1>=bad:\n",
    "            return Ture\n",
    "        else:\n",
    "            return False\n",
    "\n",
    "isbad(3).isbaadversion()\n"
   ]
  },
  {
   "cell_type": "code",
   "execution_count": 52,
   "id": "81598cee",
   "metadata": {},
   "outputs": [],
   "source": [
    "# Q4"
   ]
  },
  {
   "cell_type": "code",
   "execution_count": 58,
   "id": "52405af1",
   "metadata": {},
   "outputs": [
    {
     "name": "stdout",
     "output_type": "stream",
     "text": [
      "0\n"
     ]
    }
   ],
   "source": [
    "def max_gap(l):\n",
    "    l.sort()\n",
    "    if len(l)<2:\n",
    "        return 0\n",
    "    max=0\n",
    "    for i in range(len(l)-1):\n",
    "        diff=l[i+1]-l[i]\n",
    "        if diff>max:\n",
    "            max=diff\n",
    "    return max\n",
    "# print(max_gap([3,6,9,1,15]))\n",
    "print(max_gap([10]))"
   ]
  },
  {
   "cell_type": "code",
   "execution_count": 59,
   "id": "e431f570",
   "metadata": {},
   "outputs": [],
   "source": [
    "# Q5 contain duplicate"
   ]
  },
  {
   "cell_type": "code",
   "execution_count": 63,
   "id": "71654cc1",
   "metadata": {},
   "outputs": [
    {
     "name": "stdout",
     "output_type": "stream",
     "text": [
      "False\n"
     ]
    }
   ],
   "source": [
    "def contain_duplicate(l):\n",
    "    l.sort()\n",
    "    for i in range(len(l)-1):\n",
    "        diff=l[i+1]-l[i]\n",
    "        if diff==0:\n",
    "            return True\n",
    "\n",
    "    return False\n",
    "print(contain_duplicate([3,6,9,1,15]))\n"
   ]
  },
  {
   "cell_type": "code",
   "execution_count": 64,
   "id": "57a0f3cd",
   "metadata": {},
   "outputs": [],
   "source": [
    "# Q6 Minimum Number of Arrows to Burst Balloons"
   ]
  },
  {
   "cell_type": "code",
   "execution_count": 65,
   "id": "2319204a",
   "metadata": {},
   "outputs": [],
   "source": [
    "# Q7 Longest Increasing Subsequence"
   ]
  },
  {
   "cell_type": "code",
   "execution_count": 66,
   "id": "08c3727b",
   "metadata": {},
   "outputs": [
    {
     "name": "stdout",
     "output_type": "stream",
     "text": [
      "4\n"
     ]
    }
   ],
   "source": [
    "def lengthOfLIS(nums):\n",
    "    n = len(nums)\n",
    "    if n == 0:\n",
    "        return 0\n",
    "\n",
    "    dp = [1] * n\n",
    "\n",
    "    for i in range(1, n):\n",
    "        for j in range(i):\n",
    "            if nums[i] > nums[j]:\n",
    "                dp[i] = max(dp[i], dp[j] + 1)\n",
    "\n",
    "    return max(dp)\n",
    "\n",
    "nums = [10, 9, 2, 5, 3, 7, 101, 18]\n",
    "result = lengthOfLIS(nums)\n",
    "print(result)"
   ]
  },
  {
   "cell_type": "code",
   "execution_count": 68,
   "id": "ce79fd47",
   "metadata": {},
   "outputs": [],
   "source": [
    "# Q8 132 pattern"
   ]
  },
  {
   "cell_type": "code",
   "execution_count": 71,
   "id": "01333ea2",
   "metadata": {},
   "outputs": [
    {
     "name": "stdout",
     "output_type": "stream",
     "text": [
      "True\n"
     ]
    }
   ],
   "source": [
    "def one_three_two(l):\n",
    "    for i in range(len(l)-2):\n",
    "        if (l[i]<l[i+2] and l[i+2]<l[i+1]):\n",
    "            return True\n",
    "    return False\n",
    "print(one_three_two([-1,3,2,0]))\n",
    "            "
   ]
  },
  {
   "cell_type": "code",
   "execution_count": null,
   "id": "8192ed86",
   "metadata": {},
   "outputs": [],
   "source": []
  }
 ],
 "metadata": {
  "kernelspec": {
   "display_name": "Python 3 (ipykernel)",
   "language": "python",
   "name": "python3"
  },
  "language_info": {
   "codemirror_mode": {
    "name": "ipython",
    "version": 3
   },
   "file_extension": ".py",
   "mimetype": "text/x-python",
   "name": "python",
   "nbconvert_exporter": "python",
   "pygments_lexer": "ipython3",
   "version": "3.9.12"
  }
 },
 "nbformat": 4,
 "nbformat_minor": 5
}
